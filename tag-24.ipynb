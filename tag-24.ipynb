{
 "cells": [
  {
   "cell_type": "code",
   "execution_count": null,
   "id": "d73abb86",
   "metadata": {},
   "outputs": [],
   "source": [
    "\"\"\" 🐍 5 kurze Python-Aufgaben zum Warmwerden\n",
    "\t1.\tZahlen addieren\n",
    "👉 Schreibe eine Funktion, die zwei Zahlen nimmt und die Summe zurückgibt.\n",
    "\t2.\tGerade oder ungerade?\n",
    "👉 Schreibe ein Programm, das eine Zahl abfragt und ausgibt, ob sie gerade oder ungerade ist.\n",
    "\t3.\tListe umdrehen\n",
    "👉 Erstelle eine Liste mit 5 Wörtern und gib sie rückwärts aus.\n",
    "\t4.\tWörter zählen\n",
    "👉 Frage den Benutzer nach einem Satz und gib aus, wie viele Wörter der Satz enthält.\n",
    "\t5.\tMaximaler Wert in einer Liste\n",
    "👉 Gib den größten Wert aus einer Liste von Zahlen aus – ohne max() zu benutzen! \"\"\""
   ]
  },
  {
   "cell_type": "code",
   "execution_count": 1,
   "id": "04a5ad43",
   "metadata": {},
   "outputs": [
    {
     "name": "stdout",
     "output_type": "stream",
     "text": [
      "11\n"
     ]
    }
   ],
   "source": [
    "\"\"\"Aufgabe 1\"\"\"\n",
    "\n",
    "zahl_a = 5\n",
    "zahl_b = 6\n",
    "summe = zahl_a + zahl_b\n",
    "\n",
    "print(summe)"
   ]
  },
  {
   "cell_type": "code",
   "execution_count": 5,
   "id": "fb1d273a",
   "metadata": {},
   "outputs": [
    {
     "name": "stdout",
     "output_type": "stream",
     "text": [
      "533 ist ungerade.\n"
     ]
    }
   ],
   "source": [
    "\"\"\"Aufgabe 2\"\"\"\n",
    "\n",
    "zahl_a = 533\n",
    "\n",
    "if zahl_a % 2:\n",
    "    print(f\"{zahl_a} ist ungerade.\")\n",
    "else:\n",
    "    print(f\"{zahl_a} ist gerade.\")"
   ]
  },
  {
   "cell_type": "code",
   "execution_count": 10,
   "id": "71e7bd32",
   "metadata": {},
   "outputs": [
    {
     "name": "stdout",
     "output_type": "stream",
     "text": [
      "['Huhn', 'Schwein', 'Maus', 'Katze', 'Hund']\n"
     ]
    }
   ],
   "source": [
    "\"\"\"Aufgabe 3\"\"\"\n",
    "\n",
    "liste = [\"Hund\", \"Katze\", \"Maus\", \"Schwein\", \"Huhn\"]\n",
    "reversed_liste = liste[::-1]\n",
    "\n",
    "print(reversed_liste)"
   ]
  },
  {
   "cell_type": "code",
   "execution_count": 11,
   "id": "15133db7",
   "metadata": {},
   "outputs": [
    {
     "name": "stdout",
     "output_type": "stream",
     "text": [
      "6\n"
     ]
    }
   ],
   "source": [
    "\"\"\"Aufgabe 4\"\"\"\n",
    "\n",
    "satz = input(\"Gib einen Satz ein:\")\n",
    "\n",
    "woerter = satz.split()\n",
    "woerteranzahl = len(woerter)\n",
    "\n",
    "print(woerteranzahl)"
   ]
  },
  {
   "cell_type": "code",
   "execution_count": 16,
   "id": "ad9c82bb",
   "metadata": {},
   "outputs": [
    {
     "name": "stdout",
     "output_type": "stream",
     "text": [
      "82\n"
     ]
    }
   ],
   "source": [
    "\"\"\"Aufgabe 5\"\"\"\n",
    "\n",
    "liste = [1, 4, 70, 13, 24, 82]\n",
    "\n",
    "größter_wert = liste[0]\n",
    "\n",
    "for i in range(1, len(liste)):\n",
    "    if liste[i] > größter_wert:\n",
    "        größter_wert = liste[i]\n",
    "    \n",
    "\n",
    "print(größter_wert)\n",
    "        "
   ]
  },
  {
   "cell_type": "code",
   "execution_count": null,
   "id": "0c6d5c88",
   "metadata": {},
   "outputs": [],
   "source": [
    "\"\"\"✨ Schnelle Bonus-Challenge:\n",
    "\t•\tSchreibe eine Schleife, die alle Zahlen von 1 bis 20 ausgibt – aber bei jeder Zahl, die durch 3 teilbar ist,\n",
    "        „Fizz“ und bei 5 „Buzz“ schreibt! (Klassiker: FizzBuzz)\"\"\""
   ]
  },
  {
   "cell_type": "code",
   "execution_count": null,
   "id": "8c707a66",
   "metadata": {},
   "outputs": [
    {
     "name": "stdout",
     "output_type": "stream",
     "text": [
      "1\n",
      "2\n",
      "Fizz\n",
      "4\n",
      "Buzz\n",
      "Fizz\n",
      "7\n",
      "8\n",
      "Fizz\n",
      "Buzz\n",
      "11\n",
      "Fizz\n",
      "13\n",
      "14\n",
      "BuzzFizz\n",
      "16\n",
      "17\n",
      "Fizz\n",
      "19\n",
      "Buzz\n"
     ]
    }
   ],
   "source": [
    "for i in range(1, 21):\n",
    "    if i % 3 == 0 and i % 5 == 0:\n",
    "        print(\"FizzBuzz\")\n",
    "    elif i % 3 == 0:\n",
    "        print(\"Fizz\")\n",
    "    elif i % 5 == 0:\n",
    "        print(\"Buzz\")\n",
    "    else:\n",
    "        print(i)"
   ]
  }
 ],
 "metadata": {
  "kernelspec": {
   "display_name": "Python 3",
   "language": "python",
   "name": "python3"
  },
  "language_info": {
   "codemirror_mode": {
    "name": "ipython",
    "version": 3
   },
   "file_extension": ".py",
   "mimetype": "text/x-python",
   "name": "python",
   "nbconvert_exporter": "python",
   "pygments_lexer": "ipython3",
   "version": "3.8.3"
  }
 },
 "nbformat": 4,
 "nbformat_minor": 5
}
