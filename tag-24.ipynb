{
 "cells": [
  {
   "cell_type": "code",
   "execution_count": null,
   "id": "d73abb86",
   "metadata": {},
   "outputs": [],
   "source": [
    "\"\"\" 🐍 5 kurze Python-Aufgaben zum Warmwerden\n",
    "\t1.\tZahlen addieren\n",
    "👉 Schreibe eine Funktion, die zwei Zahlen nimmt und die Summe zurückgibt.\n",
    "\t2.\tGerade oder ungerade?\n",
    "👉 Schreibe ein Programm, das eine Zahl abfragt und ausgibt, ob sie gerade oder ungerade ist.\n",
    "\t3.\tListe umdrehen\n",
    "👉 Erstelle eine Liste mit 5 Wörtern und gib sie rückwärts aus.\n",
    "\t4.\tWörter zählen\n",
    "👉 Frage den Benutzer nach einem Satz und gib aus, wie viele Wörter der Satz enthält.\n",
    "\t5.\tMaximaler Wert in einer Liste\n",
    "👉 Gib den größten Wert aus einer Liste von Zahlen aus – ohne max() zu benutzen! \"\"\""
   ]
  },
  {
   "cell_type": "code",
   "execution_count": 1,
   "id": "04a5ad43",
   "metadata": {},
   "outputs": [
    {
     "name": "stdout",
     "output_type": "stream",
     "text": [
      "11\n"
     ]
    }
   ],
   "source": [
    "\"\"\"Aufgabe 1\"\"\"\n",
    "\n",
    "zahl_a = 5\n",
    "zahl_b = 6\n",
    "summe = zahl_a + zahl_b\n",
    "\n",
    "print(summe)"
   ]
  },
  {
   "cell_type": "code",
   "execution_count": 5,
   "id": "fb1d273a",
   "metadata": {},
   "outputs": [
    {
     "name": "stdout",
     "output_type": "stream",
     "text": [
      "533 ist ungerade.\n"
     ]
    }
   ],
   "source": [
    "\"\"\"Aufgabe 2\"\"\"\n",
    "\n",
    "zahl_a = 533\n",
    "\n",
    "if zahl_a % 2:\n",
    "    print(f\"{zahl_a} ist ungerade.\")\n",
    "else:\n",
    "    print(f\"{zahl_a} ist gerade.\")"
   ]
  }
 ],
 "metadata": {
  "kernelspec": {
   "display_name": "Python 3",
   "language": "python",
   "name": "python3"
  },
  "language_info": {
   "codemirror_mode": {
    "name": "ipython",
    "version": 3
   },
   "file_extension": ".py",
   "mimetype": "text/x-python",
   "name": "python",
   "nbconvert_exporter": "python",
   "pygments_lexer": "ipython3",
   "version": "3.8.3"
  }
 },
 "nbformat": 4,
 "nbformat_minor": 5
}
