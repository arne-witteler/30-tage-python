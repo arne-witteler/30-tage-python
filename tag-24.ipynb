{
 "cells": [
  {
   "cell_type": "code",
   "execution_count": null,
   "id": "d73abb86",
   "metadata": {},
   "outputs": [],
   "source": [
    "\"\"\" 🐍 5 kurze Python-Aufgaben zum Warmwerden\n",
    "\t1.\tZahlen addieren\n",
    "👉 Schreibe eine Funktion, die zwei Zahlen nimmt und die Summe zurückgibt.\n",
    "\t2.\tGerade oder ungerade?\n",
    "👉 Schreibe ein Programm, das eine Zahl abfragt und ausgibt, ob sie gerade oder ungerade ist.\n",
    "\t3.\tListe umdrehen\n",
    "👉 Erstelle eine Liste mit 5 Wörtern und gib sie rückwärts aus.\n",
    "\t4.\tWörter zählen\n",
    "👉 Frage den Benutzer nach einem Satz und gib aus, wie viele Wörter der Satz enthält.\n",
    "\t5.\tMaximaler Wert in einer Liste\n",
    "👉 Gib den größten Wert aus einer Liste von Zahlen aus – ohne max() zu benutzen! \"\"\""
   ]
  }
 ],
 "metadata": {
  "language_info": {
   "name": "python"
  }
 },
 "nbformat": 4,
 "nbformat_minor": 5
}
