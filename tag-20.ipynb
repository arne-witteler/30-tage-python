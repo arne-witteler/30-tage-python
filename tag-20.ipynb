{
 "cells": [
  {
   "cell_type": "code",
   "execution_count": null,
   "metadata": {},
   "outputs": [],
   "source": [
    "\"\"\"📦 Mini-Shop-System:\n",
    "\t1.\tProdukt (name, preis)\n",
    "\t2.\tWarenkorb (hinzufügen, entfernen, anzeigen, Gesamtpreis)\n",
    "\t3.\tKasse (bezahlen, Rechnung ausgeben)\n",
    "\n",
    "⸻\n",
    "\n",
    "Ziel: Produkte erstellen → Warenkorb füllen → Preis berechnen → Rechnung ausgeben ✅\"\"\"\n",
    "\n"
   ]
  }
 ],
 "metadata": {
  "language_info": {
   "name": "python"
  }
 },
 "nbformat": 4,
 "nbformat_minor": 2
}
