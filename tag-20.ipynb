{
 "cells": [
  {
   "cell_type": "code",
   "execution_count": 6,
   "metadata": {},
   "outputs": [
    {
     "name": "stdout",
     "output_type": "stream",
     "text": [
      "Froop! Himbeere wurde hinzugefügt.\n",
      "Junger Gouda wurde hinzugefügt.\n",
      "Gesamtpreis: 2.98€\n"
     ]
    },
    {
     "data": {
      "text/plain": [
       "<bound method Warenkorb.anzeigen of <__main__.Warenkorb object at 0x7fa278649b50>>"
      ]
     },
     "execution_count": 6,
     "metadata": {},
     "output_type": "execute_result"
    }
   ],
   "source": [
    "\"\"\"📦 Mini-Shop-System:\n",
    "\t1.\tProdukt (name, preis)\n",
    "\t2.\tWarenkorb (hinzufügen, entfernen, anzeigen, Gesamtpreis)\n",
    "\t3.\tKasse (bezahlen, Rechnung ausgeben)\n",
    "\n",
    "⸻\n",
    "\n",
    "Ziel: Produkte erstellen → Warenkorb füllen → Preis berechnen → Rechnung ausgeben ✅\"\"\"\n",
    "\n",
    "# Klassen-Definition für Produkte\n",
    "class Produkt:\n",
    "    def __init__(self, name, preis, kategorie):  # Konstruktor der Klasse Produkt\n",
    "        self.name = name\n",
    "        self.preis = float(preis)\n",
    "        self.kategorie = kategorie\n",
    "\n",
    "    def anzeigen(self): # Methode zur Anzeige der Produktdetails\n",
    "        print(f\"{self.name} für {self.preis}\")\n",
    "\n",
    "# Erstellen von Produkt-Objekten \n",
    "käse = Produkt(\"Junger Gouda\", \"1.89\", \"Milchprodukt\")\n",
    "joghurt = Produkt(\"Froop! Himbeere\", \"1.09\", \"Milchprodukt\")\n",
    "brot = Produkt(\"Dinkelbrot\", \"2.29\", \"Backware\")\n",
    "butter = Produkt(\"Süßrahmbutter\", \"1.79\", \"Milchprodukt\")\n",
    "milch = Produkt(\"Frische Bio-Milch\", \"0.89\", \"Milchprodukt\")\n",
    "eier = Produkt(\"Freiland Eier\", \"2.59\", \"Eiprodukt\")\n",
    "honig = Produkt(\"Blütenhonig\", \"3.49\", \"Imkereiprodukt\")\n",
    "\n",
    "\n",
    "#Klassen-Definition für den Warenkorb\n",
    "class Warenkorb:\n",
    "    def __init__(self): # Konstruktor der Klasse Warenkorb\n",
    "        self.produkte = [] # Eine leere Liste wird erstellt, um Produkte zu speichern\n",
    "    \n",
    "    def hinzufügen(self, produkt): # Methode zum Hinzufügen eines Produkts zum Warenkorb\n",
    "        self.produkte.append(produkt) # Produkt wird zur Liste hinzugefügt\n",
    "        print(f\"{produkt.name} wurde hinzugefügt.\")\n",
    "    \n",
    "    def anzeigen(self): # Methode zum Anzeigen aller Produkte im Warenkorb\n",
    "        for produkt in self.produkte: # Durch alle Produkte iterieren\n",
    "            produkt.anzeigen()\n",
    "\n",
    "    def gesamtpreis_anzeigen(self):\n",
    "\n",
    "        gesamtpreis = 0\n",
    "\n",
    "        for produkt in self.produkte:\n",
    "            gesamtpreis = gesamtpreis + produkt.preis\n",
    "        print(f\"Gesamtpreis: {gesamtpreis}€\")\n",
    "\n",
    "\n",
    "\n",
    "warenkorb = Warenkorb() # Erstellen eines Warenkorbs\n",
    "warenkorb.hinzufügen(joghurt) # Hinzufügen von Joghurt\n",
    "warenkorb.hinzufügen(käse)\n",
    "warenkorb.gesamtpreis_anzeigen()\n",
    "\n",
    "warenkorb.anzeigen"
   ]
  }
 ],
 "metadata": {
  "kernelspec": {
   "display_name": "Python 3",
   "language": "python",
   "name": "python3"
  },
  "language_info": {
   "codemirror_mode": {
    "name": "ipython",
    "version": 3
   },
   "file_extension": ".py",
   "mimetype": "text/x-python",
   "name": "python",
   "nbconvert_exporter": "python",
   "pygments_lexer": "ipython3",
   "version": "3.8.3"
  }
 },
 "nbformat": 4,
 "nbformat_minor": 2
}
