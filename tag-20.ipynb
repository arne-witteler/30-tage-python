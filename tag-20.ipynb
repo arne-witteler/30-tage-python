{
 "cells": [
  {
   "cell_type": "code",
   "execution_count": null,
   "metadata": {},
   "outputs": [
    {
     "ename": "TypeError",
     "evalue": "hinzufügen() takes 2 positional arguments but 3 were given",
     "output_type": "error",
     "traceback": [
      "\u001b[0;31m---------------------------------------------------------------------------\u001b[0m",
      "\u001b[0;31mTypeError\u001b[0m                                 Traceback (most recent call last)",
      "Cell \u001b[0;32mIn[4], line 39\u001b[0m\n\u001b[1;32m     35\u001b[0m             produkt\u001b[38;5;241m.\u001b[39manzeigen()\n\u001b[1;32m     38\u001b[0m warenkorb \u001b[38;5;241m=\u001b[39m Warenkorb() \u001b[38;5;66;03m# Erstellen eines Warenkorbs\u001b[39;00m\n\u001b[0;32m---> 39\u001b[0m \u001b[43mwarenkorb\u001b[49m\u001b[38;5;241;43m.\u001b[39;49m\u001b[43mhinzufügen\u001b[49m\u001b[43m(\u001b[49m\u001b[43mjoghurt\u001b[49m\u001b[43m,\u001b[49m\u001b[43m \u001b[49m\u001b[43mkäse\u001b[49m\u001b[43m)\u001b[49m \u001b[38;5;66;03m# Hinzufügen von Produkten\u001b[39;00m\n",
      "\u001b[0;31mTypeError\u001b[0m: hinzufügen() takes 2 positional arguments but 3 were given"
     ]
    }
   ],
   "source": [
    "\"\"\"📦 Mini-Shop-System:\n",
    "\t1.\tProdukt (name, preis)\n",
    "\t2.\tWarenkorb (hinzufügen, entfernen, anzeigen, Gesamtpreis)\n",
    "\t3.\tKasse (bezahlen, Rechnung ausgeben)\n",
    "\n",
    "⸻\n",
    "\n",
    "Ziel: Produkte erstellen → Warenkorb füllen → Preis berechnen → Rechnung ausgeben ✅\"\"\"\n",
    "\n",
    "# Klassen-Definition für Produkte\n",
    "class Produkt:\n",
    "    def __init__(self, name, preis, kategorie):  # Konstruktor der Klasse Produkt\n",
    "        self.name = name\n",
    "        self.preis = preis\n",
    "        self.kategorie = kategorie\n",
    "\n",
    "    def anzeigen(self): # Methode zur Anzeige der Produktdetails\n",
    "        print(f\"{self.name} für {self.preis}\")\n",
    "\n",
    "# Erstellen von Produkt-Objekten \n",
    "käse = Produkt(\"Junger Gouda\", \"1,89€\", \"Milchprodukt\")\n",
    "joghurt = Produkt(\"Froop! Himbeere\", \"1,09€\", \"Milchprodukt\")\n",
    "\n",
    "#Klassen-Definition für den Warenkorb\n",
    "class Warenkorb:\n",
    "    def __init__(self): # Konstruktor der Klasse Warenkorb\n",
    "        self.produkte = [] # Eine leere Liste wird erstellt, um Produkte zu speichern\n",
    "    \n",
    "    def hinzufügen(self, produkt): # Methode zum Hinzufügen eines Produkts zum Warenkorb\n",
    "        self.produkte.append(produkt) # Produkt wird zur Liste hinzugefügt\n",
    "        print(f\"{produkt.name} wurde hinzugefügt.\")\n",
    "    \n",
    "    def anzeigen(self): # Methode zum Anzeigen aller Produkte im Warenkorb\n",
    "        for produkt in self.produkte: # Durch alle Produkte iterieren\n",
    "            produkt.anzeigen()\n",
    "\n",
    "\n",
    "warenkorb = Warenkorb() # Erstellen eines Warenkorbs\n",
    "warenkorb.hinzufügen(joghurt) # Hinzufügen von Joghurt\n",
    "\n",
    "warenkorb.anzeigen"
   ]
  }
 ],
 "metadata": {
  "kernelspec": {
   "display_name": "Python 3",
   "language": "python",
   "name": "python3"
  },
  "language_info": {
   "codemirror_mode": {
    "name": "ipython",
    "version": 3
   },
   "file_extension": ".py",
   "mimetype": "text/x-python",
   "name": "python",
   "nbconvert_exporter": "python",
   "pygments_lexer": "ipython3",
   "version": "3.8.3"
  }
 },
 "nbformat": 4,
 "nbformat_minor": 2
}
