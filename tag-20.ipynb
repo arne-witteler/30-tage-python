{
 "cells": [
  {
   "cell_type": "code",
   "execution_count": null,
   "metadata": {},
   "outputs": [
    {
     "name": "stdout",
     "output_type": "stream",
     "text": [
      "Aktueller Warenkorb: [<class '__main__.Produkt'>]\n"
     ]
    }
   ],
   "source": [
    "\"\"\"📦 Mini-Shop-System:\n",
    "\t1.\tProdukt (name, preis)\n",
    "\t2.\tWarenkorb (hinzufügen, entfernen, anzeigen, Gesamtpreis)\n",
    "\t3.\tKasse (bezahlen, Rechnung ausgeben)\n",
    "\n",
    "⸻\n",
    "\n",
    "Ziel: Produkte erstellen → Warenkorb füllen → Preis berechnen → Rechnung ausgeben ✅\"\"\"\n",
    "\n",
    "# Klassen-Definition\n",
    "class Produkt:\n",
    "    def __init__(self, name, preis, kategorie):  # Konstruktor\n",
    "        self.name = name\n",
    "        self.preis = preis\n",
    "        self.kategorie = kategorie\n",
    "\n",
    "    def anzeigen(self):\n",
    "        print(f\"{self.name} für {self.preis}\")\n",
    "\n",
    "käse = Produkt(\"Junger Gouda\", \"1,89€\", \"Milchprodukt\")\n",
    "\n",
    "class Warenkorb:\n",
    "    def __init__(self, produkte):\n",
    "        self.produkte = []\n",
    "    \n",
    "    def hinzufügen(self, produkt):\n",
    "        self.produkte.append(produkt)\n",
    "        print(f\"{produkt.name} wurde hinzugefügt.\")\n",
    "\n",
    "warenkorb = Warenkorb()\n",
    "warenkorb.hinzufügen(käse)"
   ]
  }
 ],
 "metadata": {
  "kernelspec": {
   "display_name": "Python 3",
   "language": "python",
   "name": "python3"
  },
  "language_info": {
   "codemirror_mode": {
    "name": "ipython",
    "version": 3
   },
   "file_extension": ".py",
   "mimetype": "text/x-python",
   "name": "python",
   "nbconvert_exporter": "python",
   "pygments_lexer": "ipython3",
   "version": "3.8.3"
  }
 },
 "nbformat": 4,
 "nbformat_minor": 2
}
