{
 "cells": [
  {
   "cell_type": "code",
   "execution_count": 1,
   "metadata": {},
   "outputs": [
    {
     "data": {
      "text/plain": [
       "'Wiederholung for-Schleife\\nSchreibe ein Programm, das die 1er bis 10er-Reihe mit einer for-Schleife ausgibt.\\n\\nBeispiel-Ausgabe für die 3er-Reihe:\\n3 x 1 = 3  \\n3 x 2 = 6  \\n3 x 3 = 9  \\n...  \\n3 x 10 = 30 \\n📌 Bonus: Lass den Benutzer eingeben, für welche Zahl die Tabelle erstellt werden soll!'"
      ]
     },
     "execution_count": 1,
     "metadata": {},
     "output_type": "execute_result"
    }
   ],
   "source": [
    "\"\"\"Wiederholung for-Schleife\n",
    "Schreibe ein Programm, das die 1er bis 10er-Reihe mit einer for-Schleife ausgibt.\n",
    "\n",
    "Beispiel-Ausgabe für die 3er-Reihe:\n",
    "3 x 1 = 3  \n",
    "3 x 2 = 6  \n",
    "3 x 3 = 9  \n",
    "...  \n",
    "3 x 10 = 30 \n",
    "📌 Bonus: Lass den Benutzer eingeben, für welche Zahl die Tabelle erstellt werden soll!\"\"\""
   ]
  },
  {
   "cell_type": "code",
   "execution_count": null,
   "metadata": {},
   "outputs": [
    {
     "name": "stdout",
     "output_type": "stream",
     "text": [
      "1 * 1 = 1\n",
      "1 * 2 = 2\n",
      "1 * 3 = 3\n",
      "1 * 4 = 4\n",
      "1 * 5 = 5\n",
      "1 * 6 = 6\n",
      "1 * 7 = 7\n",
      "1 * 8 = 8\n",
      "1 * 9 = 9\n",
      "1 * 10 = 10\n"
     ]
    }
   ],
   "source": [
    "for zahl in range(1, 11):  # Startet bei 1, endet bei 10\n",
    "    for faktor in range(1, 11):\n",
    "    print(f\"{faktor} * {zahl} = {faktor * zahl}\")"
   ]
  }
 ],
 "metadata": {
  "kernelspec": {
   "display_name": "Python 3",
   "language": "python",
   "name": "python3"
  },
  "language_info": {
   "codemirror_mode": {
    "name": "ipython",
    "version": 3
   },
   "file_extension": ".py",
   "mimetype": "text/x-python",
   "name": "python",
   "nbconvert_exporter": "python",
   "pygments_lexer": "ipython3",
   "version": "3.8.3"
  }
 },
 "nbformat": 4,
 "nbformat_minor": 2
}
