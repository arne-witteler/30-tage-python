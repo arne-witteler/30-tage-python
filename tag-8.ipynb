{
 "cells": [
  {
   "cell_type": "code",
   "execution_count": null,
   "metadata": {},
   "outputs": [
    {
     "name": "stdout",
     "output_type": "stream",
     "text": [
      "Pakete erfolgreich importiert!\n",
      "Website erfolgreich geladen!\n",
      "83 Links gesammelt!\n",
      "['https://civilisten.de/', 'https://civilisten.de/ueber-uns/unsere-mission', 'https://civilisten.de/ueber-uns/unsere-mission', 'https://civilisten.de/ueber-uns/civilisten-team', 'https://civilisten.de/jobs/aktuelle-ausschreibungen', 'https://civilisten.de/civicrm/kontaktdatenbank', 'https://civilisten.de/civicrm/was-ist-civicrm', 'https://civilisten.de/civicrm/kontaktdatenbank', 'https://civilisten.de/civicrm/newsletter-events-kampagnen-managen', 'https://civilisten.de/civicrm/supertemplates', 'https://civilisten.de/civicrm/spenden-einnehmen-mitglieder-verwalten', 'https://civilisten.de/civicrm/hilfe-organisieren', 'https://civilisten.de/civicrm/hosting', 'https://civilisten.de/beratung/it-beratung', 'https://civilisten.de/beratung/it-beratung', 'https://civilisten.de/beratung/crm-beratung', 'https://civilisten.de/beratung/strategieberatung', 'https://civilisten.de/kommunikation/grafik-und-design', 'https://civilisten.de/kommunikation/grafik-und-design', 'https://civilisten.de/kommunikation/grafik-und-design', 'https://civilisten.de/kommunikation/text-und-konzept', 'https://civilisten.de/preise/hostinggebuehren', 'https://civilisten.de/preise/hostinggebuehren', 'https://civilisten.de/preise/anfrage', 'https://civilisten.de/kunden/erfahrungen', 'https://civilisten.de/kunden/erfahrungen', 'https://civilisten.de/kontakt', 'https://civilisten.de/support', 'https://civilisten.de', 'https://civilisten.de/', 'https://civilisten.de/en/', 'https://civilisten.de/civicrm/kontaktdatenbank', 'https://civilisten.de/kommunikation/grafik-und-design', 'https://civilisten.de/kommunikation/text-und-konzept', 'https://civilisten.de#carousel-701', 'https://civilisten.de#carousel-701', 'https://civilisten.de/civicrm/kontaktdatenbank#Kontaktdatenbank', 'https://civilisten.de/civicrm/newsletter-events-kampagnen-managen#CiviEvent', 'https://civilisten.de/kunden/erfahrungen#c652', 'https://cultures-interactive.de/de/', 'https://www.giz.de/de/html/index.html', 'https://togetherforfuture.org/', 'https://civilisten.de/kunden/erfahrungen#c622', 'https://ptx-hub.org', 'https://www.grueneliga-berlin.de/', 'https://women-in-green-hydrogen.net/', 'https://www.netzwerk-ebd.de/', 'https://civilisten.de/kunden/erfahrungen#c609', 'https://civilisten.de/kunden/erfahrungen#c666', 'https://civilisten.de/kunden/erfahrungen#c659', 'https://www.transportweek.org/', 'https://civilisten.de/kunden/erfahrungen#c673', 'https://civilisten.de/kunden/erfahrungen#c803', 'https://www.zuse-gemeinschaft.de/', 'https://civilisten.de/ueber-uns/unsere-mission', 'https://civilisten.de/ueber-uns/civilisten-team', 'https://civilisten.de/beratung/it-beratung', 'https://civilisten.de/beratung/crm-beratung', 'https://civilisten.de/beratung/strategieberatung', 'https://civilisten.de/civicrm/was-ist-civicrm', 'https://civilisten.de/civicrm/kontaktdatenbank', 'https://civilisten.de/civicrm/newsletter-events-kampagnen-managen', 'https://civilisten.de/civicrm/supertemplates', 'https://civilisten.de/civicrm/spenden-einnehmen-mitglieder-verwalten', 'https://civilisten.de/civicrm/hilfe-organisieren', 'https://civilisten.de/civicrm/hosting', 'https://civilisten.de/kommunikation/grafik-und-design', 'https://civilisten.de/kommunikation/text-und-konzept', 'https://civilisten.de/preise/hostinggebuehren', 'https://civilisten.de/preise/anfrage', 'https://civilisten.de/kunden/erfahrungen', 'https://civilisten.de/kontakt', 'https://civilisten.de/support', 'https://civilisten.de/datenschutz', 'https://civilisten.de/impressum', 'https://civilisten.de/preise/anfrage', 'https://civilisten.de/kontakt', 'https://civilisten.de/support', 'https://civilisten.de/datenschutz', 'https://civilisten.de/impressum', 'https://civilisten.de/', 'https://civilisten.de/datenschutz', 'https://civilisten.de/impressum']\n"
     ]
    }
   ],
   "source": [
    "import json\n",
    "import requests\n",
    "from bs4 import BeautifulSoup\n",
    "from urllib.parse import urljoin\n",
    "\n",
    "print(\"Pakete erfolgreich importiert!\")\n",
    "\n",
    "base_url = \"https://civilisten.de\"\n",
    "response = requests.get(base_url)\n",
    "\n",
    "if response.status_code == 200:\n",
    "    print(\"Website erfolgreich geladen!\")\n",
    "else:\n",
    "    print(f\"Fehler beim Laden der Website: {response.status_code}\")\n",
    "\n",
    "soup = BeautifulSoup(response.text, \"html.parser\")\n",
    "\n",
    "# Extrahiere alle <a>-Tags (Links)\n",
    "links = soup.find_all(\"a\")\n",
    "\n",
    "link_liste = []\n",
    "# Zeige nur vollständige Links an (beginnen mit http)\n",
    "for link in links:\n",
    "    href = link.get(\"href\")\n",
    "    if href and not href.startswith(\"javascript\"):\n",
    "        full_url = urljoin(base_url, href)\n",
    "        link_liste.append(full_url)\n",
    "print(f\"{len(link_liste)} Links gesammelt!\")\n",
    "\n",
    "with open(\"data/links.json\", \"w\") as file:\n",
    "        json.dump(link_liste, file, indent=4)\n",
    "\n",
    "with open(\"data/links.json\", \"r\") as file:\n",
    "    gespeicherte_links = json.load(file)\n",
    "\n",
    "print(gespeicherte_links)"
   ]
  }
 ],
 "metadata": {
  "kernelspec": {
   "display_name": "Python 3",
   "language": "python",
   "name": "python3"
  },
  "language_info": {
   "codemirror_mode": {
    "name": "ipython",
    "version": 3
   },
   "file_extension": ".py",
   "mimetype": "text/x-python",
   "name": "python",
   "nbconvert_exporter": "python",
   "pygments_lexer": "ipython3",
   "version": "3.8.3"
  }
 },
 "nbformat": 4,
 "nbformat_minor": 2
}
