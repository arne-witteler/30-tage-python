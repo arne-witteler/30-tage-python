{
 "cells": [
  {
   "cell_type": "code",
   "execution_count": null,
   "metadata": {},
   "outputs": [
    {
     "name": "stdout",
     "output_type": "stream",
     "text": [
      "Pakete erfolgreich importiert!\n",
      "Website erfolgreich geladen!\n",
      "https://cultures-interactive.de/de/\n",
      "https://www.giz.de/de/html/index.html\n",
      "https://togetherforfuture.org/\n",
      "https://ptx-hub.org\n",
      "https://www.grueneliga-berlin.de/\n",
      "https://women-in-green-hydrogen.net/\n",
      "https://www.netzwerk-ebd.de/\n",
      "https://www.transportweek.org/\n",
      "https://www.zuse-gemeinschaft.de/\n"
     ]
    }
   ],
   "source": [
    "import json\n",
    "import requests\n",
    "from bs4 import BeautifulSoup\n",
    "\n",
    "print(\"Pakete erfolgreich importiert!\")\n",
    "\n",
    "url = \"https://civilisten.de\"\n",
    "response = requests.get(url)\n",
    "\n",
    "if response.status_code == 200:\n",
    "    print(\"Website erfolgreich geladen!\")\n",
    "else:\n",
    "    print(f\"Fehler beim Laden der Website: {response.status_code}\")\n",
    "\n",
    "soup = BeautifulSoup(response.text, \"html.parser\")\n",
    "\n",
    "# Extrahiere alle <a>-Tags (Links)\n",
    "links = soup.find_all(\"a\")\n",
    "\n",
    "link_liste = []\n",
    "# Zeige nur vollständige Links an (beginnen mit http)\n",
    "for link in links:\n",
    "    href = link.get(\"href\")\n",
    "    if href and href.startswith(\"http\"):\n",
    "        link_liste.append(href)\n",
    "print(f\"{len(link_liste)} Links gesammelt!\")"
   ]
  }
 ],
 "metadata": {
  "kernelspec": {
   "display_name": "Python 3",
   "language": "python",
   "name": "python3"
  },
  "language_info": {
   "codemirror_mode": {
    "name": "ipython",
    "version": 3
   },
   "file_extension": ".py",
   "mimetype": "text/x-python",
   "name": "python",
   "nbconvert_exporter": "python",
   "pygments_lexer": "ipython3",
   "version": "3.8.3"
  }
 },
 "nbformat": 4,
 "nbformat_minor": 2
}
