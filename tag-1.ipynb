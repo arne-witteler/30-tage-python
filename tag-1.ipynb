{
 "cells": [
  {
   "cell_type": "markdown",
   "metadata": {},
   "source": [
    "# Python-Programm zur Speicherung und Ausgabe von persönlichen Daten\n",
    "\n",
    "Dieses kleine Python-Programm führt folgende Aufgaben aus:\n",
    "\n",
    "1. Speichert deinen Namen, dein Alter und deine Größe in Variablen.\n",
    "2. Gibt diese Werte auf der Konsole aus.\n",
    "3. Gibt die Datentypen der Variablen mit `type()` aus."
   ]
  },
  {
   "cell_type": "code",
   "execution_count": 8,
   "metadata": {},
   "outputs": [
    {
     "name": "stdout",
     "output_type": "stream",
     "text": [
      "<class 'int'> <class 'float'> <class 'str'>\n"
     ]
    }
   ],
   "source": [
    "alter = 27\n",
    "groesse = 1.85\n",
    "name = \"Arne\"\n",
    "\n",
    "print(type(alter), type(groesse), type(name))"
   ]
  },
  {
   "cell_type": "code",
   "execution_count": 11,
   "metadata": {},
   "outputs": [
    {
     "name": "stdout",
     "output_type": "stream",
     "text": [
      "Name: Arne\n",
      "Alter: 27\n",
      "Größe: 1.85\n",
      "Datentypen: <class 'str'> <class 'int'> <class 'float'>\n",
      "True\n"
     ]
    }
   ],
   "source": [
    "print(\"Name:\", name)\n",
    "print(\"Alter:\", alter)\n",
    "print(\"Größe:\", groesse)\n",
    "print(\"Datentypen:\", type(name), type(alter), type(groesse))\n",
    "\n",
    "ist_programmierer = True\n",
    "\n",
    "print(ist_programmierer)"
   ]
  }
 ],
 "metadata": {
  "kernelspec": {
   "display_name": "Python 3",
   "language": "python",
   "name": "python3"
  },
  "language_info": {
   "codemirror_mode": {
    "name": "ipython",
    "version": 3
   },
   "file_extension": ".py",
   "mimetype": "text/x-python",
   "name": "python",
   "nbconvert_exporter": "python",
   "pygments_lexer": "ipython3",
   "version": "3.9.6"
  }
 },
 "nbformat": 4,
 "nbformat_minor": 2
}
