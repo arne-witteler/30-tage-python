{
 "cells": [
  {
   "cell_type": "markdown",
   "metadata": {},
   "source": [
    "# Python-Programm zur Speicherung und Ausgabe von persönlichen Daten\n",
    "\n",
    "Dieses kleine Python-Programm führt folgende Aufgaben aus:\n",
    "\n",
    "1. Speichert deinen Namen, dein Alter und deine Größe in Variablen.\n",
    "2. Gibt diese Werte auf der Konsole aus.\n",
    "3. Gibt die Datentypen der Variablen mit `type()` aus."
   ]
  },
  {
   "cell_type": "code",
   "execution_count": 13,
   "metadata": {},
   "outputs": [
    {
     "name": "stdout",
     "output_type": "stream",
     "text": [
      "<class 'int'> <class 'float'> <class 'str'>\n"
     ]
    }
   ],
   "source": [
    "alter = 27\n",
    "groesse = 1.85\n",
    "name = \"Arne\"\n",
    "\n",
    "print(type(alter), type(groesse), type(name))"
   ]
  },
  {
   "cell_type": "code",
   "execution_count": 14,
   "metadata": {},
   "outputs": [
    {
     "name": "stdout",
     "output_type": "stream",
     "text": [
      "Name: Arne\n",
      "Alter: 27\n",
      "Größe: 1.85\n",
      "Datentypen: <class 'str'> <class 'int'> <class 'float'>\n",
      "True\n"
     ]
    }
   ],
   "source": [
    "print(\"Name:\", name)\n",
    "print(\"Alter:\", alter)\n",
    "print(\"Größe:\", groesse)\n",
    "print(\"Datentypen:\", type(name), type(alter), type(groesse))\n",
    "\n",
    "ist_programmierer = True\n",
    "\n",
    "print(ist_programmierer)"
   ]
  },
  {
   "cell_type": "markdown",
   "metadata": {},
   "source": [
    "1.\tSpeichere deinen Namen in einer Variable.\n",
    "2.\tGib ihn in Großbuchstaben und Kleinbuchstaben aus.\n",
    "3.\tGib ihn rückwärts aus.\n",
    "4.\tErsetze in einem Satz deinen Namen durch \"Meisterprogrammierer\" und gib den Satz aus."
   ]
  },
  {
   "cell_type": "code",
   "execution_count": 15,
   "metadata": {},
   "outputs": [
    {
     "name": "stdout",
     "output_type": "stream",
     "text": [
      "ARNE\n",
      "arne\n",
      "enrA\n",
      "Hallo, mein Name ist Meisterprogrammierer\n"
     ]
    }
   ],
   "source": [
    "vorname = \"Arne\"\n",
    "print(vorname.upper())\n",
    "print(vorname.lower())\n",
    "print(vorname[::-1])\n",
    "\n",
    "text = \"Hallo, mein Name ist Arne\"\n",
    "print(text.replace(\"Arne\", \"Meisterprogrammierer\"))"
   ]
  },
  {
   "cell_type": "code",
   "execution_count": 18,
   "metadata": {},
   "outputs": [
    {
     "name": "stdout",
     "output_type": "stream",
     "text": [
      "ARNE\n",
      "arne\n",
      "enrA\n"
     ]
    }
   ],
   "source": [
    "name = input(\"Wie ist dein Name?\")\n",
    "\n",
    "print(name.upper())\n",
    "print(name.lower())\n",
    "print(name[::-1])\n",
    "\n"
   ]
  },
  {
   "cell_type": "markdown",
   "metadata": {},
   "source": [
    "Schreibe ein Python-Programm, das:\n",
    "1.\tDen Benutzer nach einem Satz fragt (input()).\n",
    "2.\tDen Satz in Großbuchstaben und Kleinbuchstaben ausgibt.\n",
    "3.\tDen Satz rückwärts ausgibt.\n",
    "4.\tDie Anzahl der Zeichen im Satz zählt (inkl. Leerzeichen).\n",
    "5.\tZählt, wie oft der Buchstabe \"e\" im Satz vorkommt."
   ]
  },
  {
   "cell_type": "code",
   "execution_count": 24,
   "metadata": {},
   "outputs": [
    {
     "name": "stdout",
     "output_type": "stream",
     "text": [
      "Großbuchstaben: HEUTE HAT DER VOGEL EINEN LUSTIGEN HUT AUF.\n",
      "Kleinbuchstaben: heute hat der vogel einen lustigen hut auf.\n",
      "Rückwärts: .fua tuH negitsul nenie legoV red tah etueH\n",
      "Anzahl der Zeichen: 43\n",
      "Anzahl der E: 7\n"
     ]
    }
   ],
   "source": [
    "satz = input(\"Gib einen Satz ein:\")\n",
    "\n",
    "gross = satz.upper()\n",
    "klein = satz.lower()\n",
    "rueckwaerts = satz[::-1]\n",
    "anzahl = len(satz)\n",
    "anzahl_e = satz.count(\"e\")\n",
    "\n",
    "print(\"Großbuchstaben:\", gross)\n",
    "print(\"Kleinbuchstaben:\", klein)\n",
    "print(\"Rückwärts:\", rueckwaerts)\n",
    "print(\"Anzahl der Zeichen:\", anzahl)\n",
    "print(\"Anzahl der E:\", anzahl_e)"
   ]
  },
  {
   "cell_type": "code",
   "execution_count": null,
   "metadata": {},
   "outputs": [
    {
     "name": "stdout",
     "output_type": "stream",
     "text": [
      "Fehler! Eingabe zu lang\n",
      "Anzahl: 0\n"
     ]
    },
    {
     "ename": "",
     "evalue": "",
     "output_type": "error",
     "traceback": [
      "\u001b[1;31mDer Kernel ist beim Ausführen von Code in der aktuellen Zelle oder einer vorherigen Zelle abgestürzt. \n",
      "\u001b[1;31mBitte überprüfen Sie den Code in der/den Zelle(n), um eine mögliche Fehlerursache zu identifizieren. \n",
      "\u001b[1;31mKlicken Sie <a href='https://aka.ms/vscodeJupyterKernelCrash'>hier</a>, um weitere Informationen zu erhalten. \n",
      "\u001b[1;31mWeitere Informationen finden Sie unter Jupyter <a href='command:jupyter.viewOutput'>Protokoll</a>."
     ]
    }
   ],
   "source": [
    "satz = input(\"Gib einen Satz ein: \")\n",
    "zeichen = input(\"Welches Zeichen soll gezählt werden? \")\n",
    "\n",
    "if len(zeichen) != 1:\n",
    "    print (\"Fehler! Bitte gib exakt ein Zeichen ein.\")\n",
    "    exit()\n",
    "\n",
    "anzahl = satz.count(zeichen)\n",
    "print(f'Das Zeichen \"{zeichen}\" kommt {anzahl} Mal im Satz vor.')"
   ]
  }
 ],
 "metadata": {
  "kernelspec": {
   "display_name": "Python 3",
   "language": "python",
   "name": "python3"
  },
  "language_info": {
   "codemirror_mode": {
    "name": "ipython",
    "version": 3
   },
   "file_extension": ".py",
   "mimetype": "text/x-python",
   "name": "python",
   "nbconvert_exporter": "python",
   "pygments_lexer": "ipython3",
   "version": "3.9.6"
  }
 },
 "nbformat": 4,
 "nbformat_minor": 2
}
