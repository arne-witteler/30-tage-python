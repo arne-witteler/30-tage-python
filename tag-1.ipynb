{
 "cells": [
  {
   "cell_type": "markdown",
   "metadata": {},
   "source": [
    "# Python-Programm zur Speicherung und Ausgabe von persönlichen Daten\n",
    "\n",
    "Dieses kleine Python-Programm führt folgende Aufgaben aus:\n",
    "\n",
    "1. Speichert deinen Namen, dein Alter und deine Größe in Variablen.\n",
    "2. Gibt diese Werte auf der Konsole aus.\n",
    "3. Gibt die Datentypen der Variablen mit `type()` aus."
   ]
  },
  {
   "cell_type": "code",
   "execution_count": 8,
   "metadata": {},
   "outputs": [
    {
     "name": "stdout",
     "output_type": "stream",
     "text": [
      "<class 'int'> <class 'float'> <class 'str'>\n"
     ]
    }
   ],
   "source": [
    "alter = 27\n",
    "groesse = 1.85\n",
    "name = \"Arne\"\n",
    "\n",
    "print(type(alter), type(groesse), type(name))"
   ]
  },
  {
   "cell_type": "code",
   "execution_count": 11,
   "metadata": {},
   "outputs": [
    {
     "name": "stdout",
     "output_type": "stream",
     "text": [
      "Name: Arne\n",
      "Alter: 27\n",
      "Größe: 1.85\n",
      "Datentypen: <class 'str'> <class 'int'> <class 'float'>\n",
      "True\n"
     ]
    }
   ],
   "source": [
    "print(\"Name:\", name)\n",
    "print(\"Alter:\", alter)\n",
    "print(\"Größe:\", groesse)\n",
    "print(\"Datentypen:\", type(name), type(alter), type(groesse))\n",
    "\n",
    "ist_programmierer = True\n",
    "\n",
    "print(ist_programmierer)"
   ]
  },
  {
   "cell_type": "markdown",
   "metadata": {},
   "source": [
    "1.\tSpeichere deinen Namen in einer Variable.\n",
    "2.\tGib ihn in Großbuchstaben und Kleinbuchstaben aus.\n",
    "3.\tGib ihn rückwärts aus.\n",
    "4.\tErsetze in einem Satz deinen Namen durch \"Meisterprogrammierer\" und gib den Satz aus."
   ]
  },
  {
   "cell_type": "code",
   "execution_count": 12,
   "metadata": {},
   "outputs": [
    {
     "name": "stdout",
     "output_type": "stream",
     "text": [
      "ARNE\n",
      "arne\n",
      "enrA\n",
      "Hallo, mein Name ist Meisterprogrammierer\n"
     ]
    }
   ],
   "source": [
    "vorname = \"Arne\"\n",
    "print(vorname.upper())\n",
    "print(vorname.lower())\n",
    "print(vorname[::-1])\n",
    "\n",
    "text = \"Hallo, mein Name ist Arne\"\n",
    "print(text.replace(\"Arne\", \"Meisterprogrammierer\"))"
   ]
  }
 ],
 "metadata": {
  "kernelspec": {
   "display_name": "Python 3",
   "language": "python",
   "name": "python3"
  },
  "language_info": {
   "codemirror_mode": {
    "name": "ipython",
    "version": 3
   },
   "file_extension": ".py",
   "mimetype": "text/x-python",
   "name": "python",
   "nbconvert_exporter": "python",
   "pygments_lexer": "ipython3",
   "version": "3.9.6"
  }
 },
 "nbformat": 4,
 "nbformat_minor": 2
}
