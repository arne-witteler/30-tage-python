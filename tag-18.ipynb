{
 "cells": [
  {
   "cell_type": "code",
   "execution_count": null,
   "metadata": {},
   "outputs": [],
   "source": [
    "\"\"\"Aufgabe: Telefonbuch-Programm\n",
    "\n",
    "Funktionen:\n",
    "\t•\tNamen + Telefonnummer speichern\n",
    "\t•\tKontakt suchen\n",
    "\t•\tKontakt löschen\n",
    "\t•\tAlle Kontakte anzeigen\n",
    "\n",
    "📌 Bonus:\n",
    "\t•\tSpeicherung in einer Datei (z. B. JSON)\n",
    "\t•\tPrüfung, ob Name schon existiert \"\"\""
   ]
  }
 ],
 "metadata": {
  "language_info": {
   "name": "python"
  }
 },
 "nbformat": 4,
 "nbformat_minor": 2
}
