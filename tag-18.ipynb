{
 "cells": [
  {
   "cell_type": "code",
   "execution_count": null,
   "metadata": {},
   "outputs": [
    {
     "name": "stdout",
     "output_type": "stream",
     "text": [
      "1. {'name': 'Lisa Mueller', 'telefon': '0170-1234567'}\n",
      "2. {'name': 'Tom Becker', 'telefon': '0151-9876543'}\n",
      "3. {'name': 'Sofia Meier', 'telefon': '0176-1112223'}\n",
      "4. {'name': 'Jonas Schmidt', 'telefon': '0160-5556667'}\n",
      "5. {'name': 'Nina Hoffmann', 'telefon': '0157-4443332'}\n",
      "6. {'name': 'Arne Wilhelm', 'telefon': '0151-1234567'}\n"
     ]
    }
   ],
   "source": [
    "\"\"\"Aufgabe: Telefonbuch-Programm\n",
    "\n",
    "Funktionen:\n",
    "\t•\tNamen + Telefonnummer speichern\n",
    "\t•\tKontakt suchen\n",
    "\t•\tKontakt löschen\n",
    "\t•\tAlle Kontakte anzeigen\n",
    "\n",
    "📌 Bonus:\n",
    "\t•\tSpeicherung in einer Datei (z.B. JSON)\n",
    "\t•\tPrüfung, ob Name schon existiert \"\"\"\n",
    "\n",
    "import json\n",
    "\n",
    "# Versuche, das Telefonbuch aus der Datei zu laden\n",
    "try:\n",
    "    with open(\"telefonbuch.json\", \"r\") as file:\n",
    "        telefonbuch = json.load(file)\n",
    "except (FileNotFoundError, json.JSONDecodeError):\n",
    "    telefonbuch = []\n",
    "\n",
    "while True:\n",
    "    auswahl = int(input(\n",
    "        \"\\nWas möchtest du tun?\\n\"\n",
    "        \"(1) Namen + Telefonnummer speichern\\n\"\n",
    "        \"(2) Kontakt suchen\\n\"\n",
    "        \"(3) Kontakt löschen\\n\"\n",
    "        \"(4) Alle Kontakte anzeigen\\n\"\n",
    "        \"(5) Beenden\\n> \"\n",
    "    ))\n",
    "\n",
    "    if auswahl == 1:\n",
    "        name = input(\"Wie ist der Name des Kontakts? \")\n",
    "        telefon = input(f\"Wie lautet die Nummer von {name}? \")\n",
    "        kontakt = {\"name\": name, \"telefon\": telefon}\n",
    "        telefonbuch.append(kontakt)\n",
    "        print(\"Der Kontakt wurde gespeichert.\")\n",
    "\n",
    "    elif auswahl == 2:\n",
    "        name = input(\"Welchen Kontakt möchtest du suchen? \")\n",
    "        gefunden = False\n",
    "        for kontakt in telefonbuch:\n",
    "            if kontakt[\"name\"].lower() == name.lower():\n",
    "                print(f\"{kontakt['name']}: {kontakt['telefon']}\")\n",
    "                gefunden = True\n",
    "                break\n",
    "        if not gefunden:\n",
    "            print(\"Kein Kontakt mit diesem Namen vorhanden.\")\n",
    "\n",
    "    elif auswahl == 3:\n",
    "        name = input(\"Welchen Kontakt möchtest du löschen? \")\n",
    "        geloescht = False\n",
    "        for kontakt in telefonbuch:\n",
    "            if kontakt[\"name\"].lower() == name.lower():\n",
    "                telefonbuch.remove(kontakt)\n",
    "                print(f\"Kontakt '{name}' wurde gelöscht.\")\n",
    "                geloescht = True\n",
    "                break\n",
    "        if not geloescht:\n",
    "            print(\"Kein Kontakt mit diesem Namen gefunden.\")\n",
    "\n",
    "    elif auswahl == 4:\n",
    "        if not telefonbuch:\n",
    "            print(\"Das Telefonbuch ist leer.\")\n",
    "        else:\n",
    "            for index, kontakt in enumerate(telefonbuch, start=1):\n",
    "                print(f\"{index}. {kontakt['name']} - {kontakt['telefon']}\")\n",
    "\n",
    "    elif auswahl == 5:\n",
    "        with open(\"telefonbuch.json\", \"w\") as file:\n",
    "            json.dump(telefonbuch, file, indent=2)\n",
    "        print(\"Telefonbuch gespeichert. Bis bald!\")\n",
    "        break"
   ]
  },
  {
   "cell_type": "code",
   "execution_count": null,
   "metadata": {},
   "outputs": [
    {
     "name": "stdout",
     "output_type": "stream",
     "text": [
      "Hund\n",
      "Richtig!\n",
      "Katze\n",
      "Richtig!\n",
      "Haus\n",
      "Versuch es nochmal!\n",
      "Du hast 2 von 3 richtig. Diese Vokabeln waren falsch beantwortet:\n"
     ]
    },
    {
     "ename": "TypeError",
     "evalue": "'bool' object is not iterable",
     "output_type": "error",
     "traceback": [
      "\u001b[0;31m---------------------------------------------------------------------------\u001b[0m",
      "\u001b[0;31mTypeError\u001b[0m                                 Traceback (most recent call last)",
      "Cell \u001b[0;32mIn[8], line 22\u001b[0m\n\u001b[1;32m     19\u001b[0m         falsche_vokabeln\u001b[38;5;241m.\u001b[39mappend(deutsch)\n\u001b[1;32m     20\u001b[0m \u001b[38;5;28mprint\u001b[39m(\u001b[38;5;124mf\u001b[39m\u001b[38;5;124m\"\u001b[39m\u001b[38;5;124mDu hast \u001b[39m\u001b[38;5;132;01m{\u001b[39;00mpoints\u001b[38;5;132;01m}\u001b[39;00m\u001b[38;5;124m von \u001b[39m\u001b[38;5;132;01m{\u001b[39;00m\u001b[38;5;28mlen\u001b[39m(vokabeln)\u001b[38;5;132;01m}\u001b[39;00m\u001b[38;5;124m richtig. Diese Vokabeln waren falsch beantwortet:\u001b[39m\u001b[38;5;124m\"\u001b[39m)\n\u001b[0;32m---> 22\u001b[0m \u001b[38;5;28;01mfor\u001b[39;00m index, \u001b[38;5;129;01min\u001b[39;00m übersetzung \u001b[38;5;129;01min\u001b[39;00m \u001b[38;5;28menumerate\u001b[39m(falsche_vokabeln, start\u001b[38;5;241m=\u001b[39m\u001b[38;5;241m1\u001b[39m):\n\u001b[1;32m     23\u001b[0m     \u001b[38;5;28mprint\u001b[39m(index)\n",
      "\u001b[0;31mTypeError\u001b[0m: 'bool' object is not iterable"
     ]
    }
   ],
   "source": [
    "vokabeln = {\n",
    "    \"Hund\": \"dog\",\n",
    "    \"Katze\": \"cat\",\n",
    "    \"Haus\": \"house\"\n",
    "}\n",
    "\n",
    "points = 0\n",
    "\n",
    "falsche_vokabeln = []\n",
    "\n",
    "for deutsch in vokabeln:\n",
    "    print(deutsch)\n",
    "    übersetzung = input(\"Übersetzung:\").lower().strip()\n",
    "    if übersetzung == vokabeln[deutsch]:\n",
    "        print(\"Richtig!\")\n",
    "        points = points + 1\n",
    "    else:\n",
    "        print(\"Versuch es nochmal!\")\n",
    "        falsche_vokabeln.append(deutsch)\n",
    "print(f\"Du hast {points} von {len(vokabeln)} richtig. Diese Vokabeln waren falsch beantwortet:\")\n",
    "\n",
    "for index, vokabel in enumerate(falsche_vokabeln, start=1):\n",
    "    print(f\"{index}. {vokabel}\")"
   ]
  }
 ],
 "metadata": {
  "kernelspec": {
   "display_name": "Python 3",
   "language": "python",
   "name": "python3"
  },
  "language_info": {
   "codemirror_mode": {
    "name": "ipython",
    "version": 3
   },
   "file_extension": ".py",
   "mimetype": "text/x-python",
   "name": "python",
   "nbconvert_exporter": "python",
   "pygments_lexer": "ipython3",
   "version": "3.8.3"
  }
 },
 "nbformat": 4,
 "nbformat_minor": 2
}
