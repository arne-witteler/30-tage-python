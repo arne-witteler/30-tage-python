{
 "cells": [
  {
   "cell_type": "code",
   "execution_count": null,
   "metadata": {},
   "outputs": [
    {
     "name": "stdout",
     "output_type": "stream",
     "text": [
      "Datei gefunden, beginne Analyse...\n",
      "DEBUG: [INFO] Server gestartet\n",
      "DEBUG: [WARNING] Niedriger Speicher\n",
      "DEBUG: [INFO] Verbindung hergestellt\n",
      "DEBUG: [ERROR] Datenbank nicht erreichbar\n",
      "DEBUG: [INFO] Benutzer angemeldet\n",
      "DEBUG: [ERROR] Zeitüberschreitung bei Anfrage\n"
     ]
    }
   ],
   "source": [
    "\"\"\"Aufgabe: Analysiere eine Logdatei\n",
    "\n",
    "🎯 Ziel:\n",
    "\n",
    "Erstelle ein Programm, das:\n",
    "\t1.\tEine Textdatei (z.B. logs.txt) einliest\n",
    "\t2.\tAlle Zeilen mit bestimmten Begriffen (z.B. \"ERROR\", \"WARNING\") findet\n",
    "\t3.\tGefundene Zeilen nummeriert ausgibt\n",
    "\t4.\tBonus: Die gefilterten Zeilen in eine neue Datei schreibt (fehler.txt)\"\"\"\n",
    "\n",
    "with open(\"logs.txt\", \"r\") as file:\n",
    "    print(\"Datei gefunden, beginne Analyse...\")\n",
    "    for index, zeile in enumerate(file, start=1):\n",
    "        print(f\"DEBUG: {zeile.strip()}\")\n",
    "        if \"error\" in zeile.lower() or \"warning\" in zeile.lower():\n",
    "                print(f\"{index}. {zeile.strip()}\")\n",
    "\n"
   ]
  }
 ],
 "metadata": {
  "kernelspec": {
   "display_name": "Python 3",
   "language": "python",
   "name": "python3"
  },
  "language_info": {
   "codemirror_mode": {
    "name": "ipython",
    "version": 3
   },
   "file_extension": ".py",
   "mimetype": "text/x-python",
   "name": "python",
   "nbconvert_exporter": "python",
   "pygments_lexer": "ipython3",
   "version": "3.8.3"
  }
 },
 "nbformat": 4,
 "nbformat_minor": 2
}
