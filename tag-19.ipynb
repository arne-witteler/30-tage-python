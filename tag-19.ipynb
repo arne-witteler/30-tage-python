{
 "cells": [
  {
   "cell_type": "code",
   "execution_count": null,
   "metadata": {},
   "outputs": [],
   "source": [
    "\"\"\"Aufgabe: Analysiere eine Logdatei\n",
    "\n",
    "🎯 Ziel:\n",
    "\n",
    "Erstelle ein Programm, das:\n",
    "\t1.\tEine Textdatei (z.B. logs.txt) einliest\n",
    "\t2.\tAlle Zeilen mit bestimmten Begriffen (z.B. \"ERROR\", \"WARNING\") findet\n",
    "\t3.\tGefundene Zeilen nummeriert ausgibt\n",
    "\t4.\tBonus: Die gefilterten Zeilen in eine neue Datei schreibt (fehler.txt)\"\"\""
   ]
  }
 ],
 "metadata": {
  "language_info": {
   "name": "python"
  }
 },
 "nbformat": 4,
 "nbformat_minor": 2
}
