{
 "cells": [
  {
   "cell_type": "code",
   "execution_count": null,
   "metadata": {},
   "outputs": [],
   "source": [
    "import random\n",
    "import time\n",
    "\n",
    "while True:\n",
    "\n",
    "    hardness = int(input(\"Wähle den Schwierigkeitsgrad: [1] LEICHT, [2] MITTEL, [3] SCHWER\"))\n",
    "    versuche = 0\n",
    "\n",
    "    if hardness == 1:\n",
    "        random_number = random.randint(1, 10)\n",
    "        max_versuche = 5\n",
    "    elif hardness == 2:\n",
    "        random_number = random.randint(1, 20)\n",
    "        max_versuche = 4\n",
    "    elif hardness == 3:\n",
    "        random_number = random.randint(1, 50)\n",
    "        max_versuche = 3\n",
    "    \n",
    "    while versuche < max_versuche:\n",
    "        try:\n",
    "            guessed_number = int(input(\"Welche Zahl wird gesucht? \"))\n",
    "        except ValueError:\n",
    "            print(\"Ungültige Eingabe\")\n",
    "            continue # Zurück zum Anfang der Schleife\n",
    "        \n",
    "        if guessed_number == random_number:\n",
    "            punkte = max_versuche - versuche + 1\n",
    "            print(f\"Zahl erraten! Du erhälst {punkte} Punkte!\")\n",
    "            break\n",
    "        else:\n",
    "            versuche = versuche + 1\n",
    "            if guessed_number < random_number:\n",
    "                print(\"Zu niedrig!\")\n",
    "            else:\n",
    "                print(\"Zu hoch!\")\n",
    "    else:\n",
    "        print(f\"Leider verloren! Die richtige Zahl war {random_number}.\")\n",
    "\n",
    "    time.sleep(2)\n",
    "    new_game = input(\"Möchtest du nochmal spielen? (ja/ nein)\").lower()\n",
    "\n",
    "    if new_game != \"ja\":\n",
    "        print(\"Danke fürs Spielen!\")\n",
    "        break\n"
   ]
  }
 ],
 "metadata": {
  "language_info": {
   "name": "python"
  }
 },
 "nbformat": 4,
 "nbformat_minor": 2
}
