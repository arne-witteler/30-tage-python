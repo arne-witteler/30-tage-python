{
 "cells": [
  {
   "cell_type": "code",
   "execution_count": null,
   "metadata": {},
   "outputs": [
    {
     "name": "stdout",
     "output_type": "stream",
     "text": [
      "Zu niedrig!\n",
      "Zu niedrig!\n",
      "Zahl erraten! Du erhälst 4 Punkte!\n",
      "Highscore: 6 Punkte\n",
      "Danke fürs Spielen!\n"
     ]
    }
   ],
   "source": [
    "import random\n",
    "import time\n",
    "\n",
    "while True:\n",
    "    try:\n",
    "        hardness = int(input(\"Wähle den Schwierigkeitsgrad: [1] LEICHT, [2] MITTEL, [3] SCHWER\"))\n",
    "        if hardness not in [1, 2, 3]:\n",
    "            raise ValueError\n",
    "    except ValueError:\n",
    "        print(\"Ungültige Eingabe\")\n",
    "        continue\n",
    "\n",
    "    versuche = 0\n",
    "    highscore = int(open(\"highscore.txt\", \"r\").read().strip())\n",
    "\n",
    "    if hardness == 1:\n",
    "        random_number = random.randint(1, 10)\n",
    "        max_versuche = 5\n",
    "    elif hardness == 2:\n",
    "        random_number = random.randint(1, 20)\n",
    "        max_versuche = 4\n",
    "    elif hardness == 3:\n",
    "        random_number = random.randint(1, 50)\n",
    "        max_versuche = 3\n",
    "    \n",
    "    while versuche < max_versuche:\n",
    "        try:\n",
    "            guessed_number = int(input(\"Welche Zahl wird gesucht? \"))\n",
    "        except ValueError:\n",
    "            print(\"Ungültige Eingabe\")\n",
    "            continue # Zurück zum Anfang der Schleife\n",
    "        \n",
    "        if guessed_number == random_number:\n",
    "            punkte = max_versuche - versuche + 1\n",
    "            print(f\"Zahl erraten! Du erhälst {punkte} Punkte!\")\n",
    "            print(f\"Highscore: {highscore} Punkte\")\n",
    "            if punkte > highscore:\n",
    "                with open(\"highscore.txt\", \"w\") as file:\n",
    "                    file.write(str(punkte))\n",
    "                highscore = punkte\n",
    "                print(f\"Neuer Highscore: {highscore} Punkte\")\n",
    "            break\n",
    "        else:\n",
    "            versuche = versuche + 1\n",
    "            if guessed_number < random_number:\n",
    "                print(\"Zu niedrig!\")\n",
    "            else:\n",
    "                print(\"Zu hoch!\")\n",
    "    else:\n",
    "        print(f\"Leider verloren! Die richtige Zahl war {random_number}.\")\n",
    "        print(f\"Highscore: {highscore} Punkte\")\n",
    "\n",
    "    time.sleep(2)\n",
    "    new_game = input(\"Möchtest du nochmal spielen? (ja/ nein)\").lower()\n",
    "\n",
    "    if new_game != \"ja\":\n",
    "        print(\"Danke fürs Spielen!\")\n",
    "        break\n"
   ]
  }
 ],
 "metadata": {
  "kernelspec": {
   "display_name": "Python 3",
   "language": "python",
   "name": "python3"
  },
  "language_info": {
   "codemirror_mode": {
    "name": "ipython",
    "version": 3
   },
   "file_extension": ".py",
   "mimetype": "text/x-python",
   "name": "python",
   "nbconvert_exporter": "python",
   "pygments_lexer": "ipython3",
   "version": "3.9.6"
  }
 },
 "nbformat": 4,
 "nbformat_minor": 2
}
