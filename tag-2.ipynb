{
 "cells": [
  {
   "cell_type": "markdown",
   "metadata": {},
   "source": [
    "Schreibe ein Programm, das den Benutzer nach einem Passwort fragt.\n",
    "1. Falls das Passwort \"python123\" ist, soll \"Zugang gewährt!\" ausgegeben werden.\n",
    "2. Falls nicht, soll \"Falsches Passwort!\" ausgegeben werden.\n",
    "3. Nach drei Versuche soll der Zugang gesperrt werden.\n",
    "4. Nach einem falschen Versuch soll angezeigt werden, wie viele Versuche noch übrig sind.\n",
    "5. Falls der Nutzer 3-mal falsch rät, soll das Programm 5 Sekunden warten, bevor es endet.\n",
    "6. Was passiert, wenn der Nutzer Großbuchstaben oder Leerzeichen eingibt? Vermeide Eingabefehler!\n"
   ]
  },
  {
   "cell_type": "code",
   "execution_count": 16,
   "metadata": {},
   "outputs": [
    {
     "name": "stdout",
     "output_type": "stream",
     "text": [
      "Falsches Passwort! Du hast noch 2 Versuche übrig\n",
      "Zugang gewährt!\n"
     ]
    }
   ],
   "source": [
    "import time\n",
    "\n",
    "versuche = 0\n",
    "\n",
    "while versuche < 3:\n",
    "    passwort = input(\"Passwort eingeben: \")\n",
    "    passwort = passwort.lower().strip()\n",
    "    if passwort == \"python123\":\n",
    "        print(\"Zugang gewährt!\")\n",
    "        break\n",
    "    else:\n",
    "        versuche = versuche + 1\n",
    "        print(f\"Falsches Passwort! Du hast noch {3 - versuche} Versuche übrig\")\n",
    "        if versuche == 3:\n",
    "            print(\"Zugang gesperrt! Bitte warte 5 Sekunden...\")\n",
    "            time.sleep(5)\n",
    "            print(\"Programm beendet.\")\n"
   ]
  },
  {
   "cell_type": "markdown",
   "metadata": {},
   "source": [
    "📌 Die Aufgabe:\n",
    "1. Dein Programm soll eine zufällige Zahl zwischen 1 und 10 generieren.\n",
    "2. Der Nutzer muss die Zahl erraten.\n",
    "3. Falls er falsch rät, bekommt er einen Hinweis:\n",
    "4. \"Zu hoch!\", falls seine Zahl größer ist.\n",
    "5. \"Zu niedrig!\", falls seine Zahl kleiner ist.\n",
    "6. Der Nutzer hat maximal 5 Versuche.\n",
    "7. Falls er es nicht schafft, soll das Programm \"Leider verloren! Die richtige Zahl war X\" ausgeben."
   ]
  },
  {
   "cell_type": "code",
   "execution_count": 6,
   "metadata": {},
   "outputs": [
    {
     "name": "stdout",
     "output_type": "stream",
     "text": [
      "Zu niedrig!\n",
      "Zu niedrig!\n",
      "Zu niedrig!\n",
      "Zu niedrig!\n",
      "Zu niedrig!\n",
      "Leider verloren! Die richtige Zahl war 10\n"
     ]
    }
   ],
   "source": [
    "import random\n",
    "\n",
    "random_number = random.randint(1, 10)\n",
    "versuche = 0\n",
    "\n",
    "while versuche < 5:\n",
    "    guessed_number = int(input(\"Zahl erraten: \"))\n",
    "    if guessed_number == random_number:\n",
    "        print(\"Zahl erraten!\")\n",
    "        break\n",
    "    else:\n",
    "        versuche = versuche + 1\n",
    "        if guessed_number < random_number:\n",
    "            print(\"Zu niedrig!\")\n",
    "        else:\n",
    "            print(\"Zu hoch!\")\n",
    "\n",
    "else:\n",
    "    print(f\"Leider verloren! Die richtige Zahl war {random_number}\")\n",
    "\n",
    "    \n",
    "\n",
    "\n",
    "\n",
    "\n"
   ]
  }
 ],
 "metadata": {
  "kernelspec": {
   "display_name": "Python 3",
   "language": "python",
   "name": "python3"
  },
  "language_info": {
   "codemirror_mode": {
    "name": "ipython",
    "version": 3
   },
   "file_extension": ".py",
   "mimetype": "text/x-python",
   "name": "python",
   "nbconvert_exporter": "python",
   "pygments_lexer": "ipython3",
   "version": "3.9.6"
  }
 },
 "nbformat": 4,
 "nbformat_minor": 2
}
