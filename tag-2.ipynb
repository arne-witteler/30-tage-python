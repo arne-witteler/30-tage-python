{
 "cells": [
  {
   "cell_type": "markdown",
   "metadata": {},
   "source": [
    "Schreibe ein Programm, das den Benutzer nach einem Passwort fragt.\n",
    "1. Falls das Passwort \"python123\" ist, soll \"Zugang gewährt!\" ausgegeben werden.\n",
    "2. Falls nicht, soll \"Falsches Passwort!\" ausgegeben werden.\n",
    "3. Nach drei Versuche soll der Zugang gesperrt werden.\n",
    "4. Nach einem falschen Versuch soll angezeigt werden, wie viele Versuche noch übrig sind.\n"
   ]
  },
  {
   "cell_type": "code",
   "execution_count": 13,
   "metadata": {},
   "outputs": [
    {
     "name": "stdout",
     "output_type": "stream",
     "text": [
      "Falsches Passwort! Du hast noch 2 Versuche übrig\n",
      "Falsches Passwort! Du hast noch 1 Versuche übrig\n",
      "Falsches Passwort! Du hast noch 0 Versuche übrig\n",
      "Zugang gesperrt\n"
     ]
    }
   ],
   "source": [
    "import time\n",
    "\n",
    "versuche = 0\n",
    "\n",
    "while versuche < 3:\n",
    "    passwort = input(\"Passwort eingeben: \")\n",
    "    if passwort == \"python123\":\n",
    "        print(\"Zugang gewährt!\")\n",
    "        break\n",
    "    else:\n",
    "        versuche = versuche + 1\n",
    "        print(f\"Falsches Passwort! Du hast noch {3 - versuche} Versuche übrig\")\n",
    "        if versuche == 3:\n",
    "            time.sleep(5)\n",
    "            print(\"Zugang gesperrt\")\n"
   ]
  }
 ],
 "metadata": {
  "kernelspec": {
   "display_name": "Python 3",
   "language": "python",
   "name": "python3"
  },
  "language_info": {
   "codemirror_mode": {
    "name": "ipython",
    "version": 3
   },
   "file_extension": ".py",
   "mimetype": "text/x-python",
   "name": "python",
   "nbconvert_exporter": "python",
   "pygments_lexer": "ipython3",
   "version": "3.9.6"
  }
 },
 "nbformat": 4,
 "nbformat_minor": 2
}
