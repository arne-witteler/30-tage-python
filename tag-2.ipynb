{
 "cells": [
  {
   "cell_type": "markdown",
   "metadata": {},
   "source": [
    "Schreibe ein Programm, das den Benutzer nach einem Passwort fragt.\n",
    "1 Falls das Passwort \"python123\" ist, soll \"Zugang gewährt!\" ausgegeben werden.\n",
    "2 Falls nicht, soll \"Falsches Passwort!\" ausgegeben werden.\n"
   ]
  },
  {
   "cell_type": "code",
   "execution_count": 10,
   "metadata": {},
   "outputs": [
    {
     "name": "stdout",
     "output_type": "stream",
     "text": [
      "Falsches Passwort\n",
      "Falsches Passwort\n",
      "Falsches Passwort\n",
      "Zugang gesperrt\n"
     ]
    }
   ],
   "source": [
    "versuche = 0\n",
    "\n",
    "while versuche < 3:\n",
    "    passwort = input(\"Passwort eingeben: \")\n",
    "    if passwort == \"python123\":\n",
    "        print(\"Zugang gewährt!\")\n",
    "        break\n",
    "    else:\n",
    "        versuche = versuche + 1\n",
    "        print(\"Falsches Passwort\")\n",
    "        if versuche == 3:\n",
    "            print(\"Zugang gesperrt\")\n"
   ]
  }
 ],
 "metadata": {
  "kernelspec": {
   "display_name": "Python 3",
   "language": "python",
   "name": "python3"
  },
  "language_info": {
   "codemirror_mode": {
    "name": "ipython",
    "version": 3
   },
   "file_extension": ".py",
   "mimetype": "text/x-python",
   "name": "python",
   "nbconvert_exporter": "python",
   "pygments_lexer": "ipython3",
   "version": "3.9.6"
  }
 },
 "nbformat": 4,
 "nbformat_minor": 2
}
