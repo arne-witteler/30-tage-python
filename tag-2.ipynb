{
 "cells": [
  {
   "cell_type": "markdown",
   "metadata": {},
   "source": [
    "Schreibe ein Programm, das den Benutzer nach einem Passwort fragt.\n",
    "1 Falls das Passwort \"python123\" ist, soll \"Zugang gewährt!\" ausgegeben werden.\n",
    "2 Falls nicht, soll \"Falsches Passwort!\" ausgegeben werden.\n"
   ]
  },
  {
   "cell_type": "code",
   "execution_count": 2,
   "metadata": {},
   "outputs": [
    {
     "name": "stdout",
     "output_type": "stream",
     "text": [
      "Zugang gewährt!\n"
     ]
    }
   ],
   "source": [
    "passwort = input(\"Passwort eingeben: \")\n",
    "successmessage = \"Zugang gewährt!\"\n",
    "errormessage = \"Falsches Passwort\"\n",
    "\n",
    "if passwort == \"python123\":\n",
    "    print(successmessage)\n",
    "else:\n",
    "    print(errormessage)"
   ]
  }
 ],
 "metadata": {
  "kernelspec": {
   "display_name": "Python 3",
   "language": "python",
   "name": "python3"
  },
  "language_info": {
   "codemirror_mode": {
    "name": "ipython",
    "version": 3
   },
   "file_extension": ".py",
   "mimetype": "text/x-python",
   "name": "python",
   "nbconvert_exporter": "python",
   "pygments_lexer": "ipython3",
   "version": "3.9.6"
  }
 },
 "nbformat": 4,
 "nbformat_minor": 2
}
