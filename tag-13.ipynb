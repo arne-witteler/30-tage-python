{
 "cells": [
  {
   "cell_type": "code",
   "execution_count": 6,
   "metadata": {},
   "outputs": [
    {
     "name": "stdout",
     "output_type": "stream",
     "text": [
      "A\n",
      "r\n",
      "n\n",
      "e\n",
      "enrA\n",
      "ARNE\n"
     ]
    }
   ],
   "source": [
    "# Wiederholung\n",
    "\n",
    "name = input(\"Wie heißt du? \")\n",
    "\n",
    "for buchstabe in name:\n",
    "    print(buchstabe)\n",
    "\n",
    "print(name[::-1])\n",
    "\n",
    "print(name.upper())"
   ]
  }
 ],
 "metadata": {
  "kernelspec": {
   "display_name": "Python 3",
   "language": "python",
   "name": "python3"
  },
  "language_info": {
   "codemirror_mode": {
    "name": "ipython",
    "version": 3
   },
   "file_extension": ".py",
   "mimetype": "text/x-python",
   "name": "python",
   "nbconvert_exporter": "python",
   "pygments_lexer": "ipython3",
   "version": "3.8.3"
  }
 },
 "nbformat": 4,
 "nbformat_minor": 2
}
