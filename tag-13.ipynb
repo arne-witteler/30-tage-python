{
 "cells": [
  {
   "cell_type": "code",
   "execution_count": null,
   "metadata": {},
   "outputs": [],
   "source": [
    "# Wiederholung\n",
    "\n",
    "name = input(\"Wie heißt du? \")\n",
    "\n",
    "for buchstabe in name:\n",
    "    print(buchstabe)"
   ]
  }
 ],
 "metadata": {
  "language_info": {
   "name": "python"
  }
 },
 "nbformat": 4,
 "nbformat_minor": 2
}
