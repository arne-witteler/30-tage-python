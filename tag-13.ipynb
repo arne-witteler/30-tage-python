{
 "cells": [
  {
   "cell_type": "code",
   "execution_count": 6,
   "metadata": {},
   "outputs": [
    {
     "name": "stdout",
     "output_type": "stream",
     "text": [
      "A\n",
      "r\n",
      "n\n",
      "e\n",
      "enrA\n",
      "ARNE\n"
     ]
    }
   ],
   "source": [
    "# Wiederholung\n",
    "\n",
    "name = input(\"Wie heißt du? \")\n",
    "\n",
    "for buchstabe in name:\n",
    "    print(buchstabe)\n",
    "\n",
    "print(name[::-1])\n",
    "\n",
    "print(name.upper())"
   ]
  },
  {
   "cell_type": "code",
   "execution_count": null,
   "metadata": {},
   "outputs": [
    {
     "name": "stdout",
     "output_type": "stream",
     "text": [
      "88 ist leider falsch!\n"
     ]
    }
   ],
   "source": [
    "# Wiederholung\n",
    "\n",
    "import random\n",
    "\n",
    "zufallszahl1 = random.randint(1,100)\n",
    "zufallszahl2 = random.randint(1,100)\n",
    "\n",
    "try:\n",
    "    ergebnis = int(input(f\"Was ist die Summe von {zufallszahl1} und {zufallszahl2}?\"))\n",
    "except ValueError:\n",
    "    print(\"Bitte gib eine Zahl ein.\")\n",
    "else:\n",
    "    if ergebnis == zufallszahl1 + zufallszahl2:\n",
    "        print(f\"Super, {ergebnis} ist korrekt!\")\n",
    "    else:\n",
    "        print(f\"{ergebnis} ist leider falsch!\")"
   ]
  }
 ],
 "metadata": {
  "kernelspec": {
   "display_name": "Python 3",
   "language": "python",
   "name": "python3"
  },
  "language_info": {
   "codemirror_mode": {
    "name": "ipython",
    "version": 3
   },
   "file_extension": ".py",
   "mimetype": "text/x-python",
   "name": "python",
   "nbconvert_exporter": "python",
   "pygments_lexer": "ipython3",
   "version": "3.8.3"
  }
 },
 "nbformat": 4,
 "nbformat_minor": 2
}
