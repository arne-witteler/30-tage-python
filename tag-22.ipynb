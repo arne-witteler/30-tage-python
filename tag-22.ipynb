{
 "cells": [
  {
   "cell_type": "code",
   "execution_count": null,
   "id": "f54591d8",
   "metadata": {},
   "outputs": [],
   "source": [
    "\"\"\" if-Abfragen\n",
    "2.1 Sortiere zwei vorher festgelegte Zahlen nach Größe und gib sie in der richtigen Reihenfolge aus.\n",
    "\n",
    "2.2 Bestimme die Größte aus drei vorher festgelegten Zahlen und gib diese Zahl aus.\n",
    "\n",
    "2.3 Sortiere drei vorher festgelegte Zahlen und gib sie in der richtigen Reihenfolge aus.\n",
    "\n",
    "2.4 Uberprüfe, ob ein vorher festgelegtes Jahr ein Schaltjahr ist. Dabei sind folgende Regeln zu beachten:\n",
    "- nicht durch 4 teilbar | kein Schaltjahr\n",
    "- durch 4 teilbar | Schaltjahr\n",
    "- durch 100 teilbar | kein Schaltjahr\n",
    "- durch 400 teilbar | Schaltjahr\n",
    "\n",
    "2.5 Lass den Benutzer Temperatur (warm, kalt) und Wetter eingeben (regnerisch, verschneit, sonnig) und gib ihm einen Vorschlag zurück, wie er sich dem Wetter entsprechend kleiden soll.\n",
    "\n",
    "Beispiel:\n",
    "Eingabe: warm und sonnig\n",
    "Ausgabe: Ein T-Shirt reicht für heute völlig!\"\"\""
   ]
  },
  {
   "cell_type": "code",
   "execution_count": 3,
   "id": "140e8ffb",
   "metadata": {},
   "outputs": [
    {
     "name": "stdout",
     "output_type": "stream",
     "text": [
      "32, 34\n"
     ]
    }
   ],
   "source": [
    "\"\"\"2.1\"\"\"\n",
    "\n",
    "zahl_1 = 34\n",
    "zahl_2 = 32\n",
    "\n",
    "if zahl_1 < zahl_2:\n",
    "    print(f\"{zahl_1}, {zahl_2}\")\n",
    "else:\n",
    "    print(f\"{zahl_2}, {zahl_1}\")"
   ]
  },
  {
   "cell_type": "code",
   "execution_count": 6,
   "id": "3eff65a2",
   "metadata": {},
   "outputs": [
    {
     "name": "stdout",
     "output_type": "stream",
     "text": [
      "45\n"
     ]
    }
   ],
   "source": [
    "\"\"\"2.2\"\"\"\n",
    "\n",
    "zahl_1 = 43\n",
    "zahl_2 = 45\n",
    "zahl_3 = 32\n",
    "\n",
    "if zahl_1 > zahl_2 and zahl_1 > zahl_3:\n",
    "    print(zahl_1)\n",
    "elif zahl_2 > zahl_1 and zahl_2 > zahl_3:\n",
    "    print(zahl_2)\n",
    "else:\n",
    "    print(zahl_3)"
   ]
  },
  {
   "cell_type": "code",
   "execution_count": 8,
   "id": "d8bb8ef6",
   "metadata": {},
   "outputs": [
    {
     "name": "stdout",
     "output_type": "stream",
     "text": [
      "[11, 23, 54]\n"
     ]
    }
   ],
   "source": [
    "\"\"\"2.3\"\"\"\n",
    "\n",
    "zahlen = [23, 11, 54]\n",
    "\n",
    "zahlen.sort()\n",
    "print(zahlen)"
   ]
  },
  {
   "cell_type": "code",
   "execution_count": 14,
   "id": "12392dde",
   "metadata": {},
   "outputs": [
    {
     "name": "stdout",
     "output_type": "stream",
     "text": [
      "Das Jahr 2025 ist KEIN Schaltjahr.\n"
     ]
    }
   ],
   "source": [
    "\"\"\"2.4\"\"\"\n",
    "\n",
    "jahr = 2025\n",
    "\n",
    "if jahr % 4 == 0 or jahr % 400 == 0:\n",
    "    print(f\"Das Jahr {jahr} ist ein Schaltjahr.\")\n",
    "else:\n",
    "    print(f\"Das Jahr {jahr} ist KEIN Schaltjahr.\")"
   ]
  },
  {
   "cell_type": "code",
   "execution_count": 16,
   "id": "4f7cafcd",
   "metadata": {},
   "outputs": [
    {
     "name": "stdout",
     "output_type": "stream",
     "text": [
      "Dick einpacken! Winterjacke, Schal, Mütze und Handschuhe sind angesagt. Stiefel mit gutem Profil sind auch keine schlechte Idee.\n"
     ]
    }
   ],
   "source": [
    "\"\"\"2.5\"\"\"\n",
    "\n",
    "wetterlage = input(\"Wie ist das Wetter heute?\")\n",
    "\n",
    "if \"warm\" in wetterlage and \"sonnig\" in wetterlage:\n",
    "    print(\"Ein T-Shirt reicht für heute völlig!\")\n",
    "elif \"warm\" in wetterlage and \"regnerisch\" in wetterlage:\n",
    "    print(\"Ein dünner Regenmantel oder eine leichte Jacke über deinem T-Shirt wäre perfekt. Nimm am besten auch einen kleinen Regenschirm mit!\")\n",
    "elif \"warm\" in wetterlage and \"verschneit\" in wetterlage:\n",
    "    print(\"Bist du sicher, dass so das Wetter ist?\")\n",
    "elif \"kalt\" in wetterlage and \"sonnig\" in wetterlage:\n",
    "    print(\"Eine warme Jacke ist definitiv nötig. Vielleicht auch eine Mütze und Sonnenbrille, wenn der Himmel strahlend blau ist!\")\n",
    "elif \"kalt\" in wetterlage and \"regnerisch\" in wetterlage:\n",
    "    print(\"Warm einpacken mit einer wasserdichten Jacke und festen Schuhen. Ein Regenschirm könnte auch hilfreich sein!\")\n",
    "elif \"kalt\" in wetterlage and \"verschneit\" in wetterlage:\n",
    "    print(\"Dick einpacken! Winterjacke, Schal, Mütze und Handschuhe sind angesagt. Stiefel mit gutem Profil sind auch keine schlechte Idee.\")\n",
    "else:\n",
    "    print(\"Ich konnte deine Eingabe nicht verstehen. Versuche es mit Kombinationen wie 'warm und sonnig' oder 'kalt und regnerisch'.\")"
   ]
  },
  {
   "cell_type": "code",
   "execution_count": null,
   "id": "65f708bf",
   "metadata": {},
   "outputs": [],
   "source": [
    "\"\"\"for/ while Schleifen\n",
    "3.1 Berechnung einer festen Potenz\n",
    "- Berechne die Potenz für eine festgelegte Basis und einen festgelegten Exponenten.\n",
    "\n",
    "3.2 Berechnung einer Summe\n",
    "- Bilde die Summe der natürlichen Zahlen von 1 bis n.\n",
    "\n",
    "3.3 Vergleich von Vorwärts- und Rückwärtssummation\n",
    "- Berechne die Summe aus 3.2 rückwärts, also von n bis 1.\n",
    "- Ist das Ergebnis dasselbe wie bei der Vorwärtssummation?\n",
    "\n",
    "3.4 Approximation der eulerschen Zahl e\n",
    "- Schreibe ein Programm, das die Zahl e näherungsweise berechnet.\n",
    "\n",
    "3.5 Approximation der Zahl pi\n",
    "- Schreibe ein Programm, das die Zahl pi näherungsweise berechnet.\"\"\""
   ]
  },
  {
   "cell_type": "code",
   "execution_count": 4,
   "id": "c0805416",
   "metadata": {},
   "outputs": [
    {
     "name": "stdout",
     "output_type": "stream",
     "text": [
      "243\n"
     ]
    }
   ],
   "source": [
    "\"\"\"3.1\"\"\"\n",
    "\n",
    "zahl = 3\n",
    "exponent = 5\n",
    "ergebnis = 1\n",
    "\n",
    "for index in range(1, exponent + 1):\n",
    "    ergebnis = ergebnis * zahl\n",
    "print(ergebnis)"
   ]
  },
  {
   "cell_type": "code",
   "execution_count": 11,
   "id": "28e0d916",
   "metadata": {},
   "outputs": [
    {
     "name": "stdout",
     "output_type": "stream",
     "text": [
      "12.090146129863335\n"
     ]
    }
   ],
   "source": [
    "\"\"\"3.2\"\"\"\n",
    "\n",
    "n = 100000\n",
    "summe = 0\n",
    "\n",
    "for k in range(1,n + 1):\n",
    "    summe = summe + (1/k)\n",
    "print(summe)\n"
   ]
  },
  {
   "cell_type": "code",
   "execution_count": null,
   "id": "c0c05345",
   "metadata": {},
   "outputs": [
    {
     "name": "stdout",
     "output_type": "stream",
     "text": [
      "12.090146129863408\n"
     ]
    }
   ],
   "source": [
    "\"\"\"3.3\"\"\"\n",
    "\n",
    "n = 100000\n",
    "summe_rueckwärts = 0\n",
    "\n",
    "for k in range(n, 0, -1):\n",
    "    summe_rueckwärts = summe_rueckwärts + (1/k)\n",
    "print(summe_rueckwärts)\n"
   ]
  }
 ],
 "metadata": {
  "kernelspec": {
   "display_name": "Python 3",
   "language": "python",
   "name": "python3"
  },
  "language_info": {
   "codemirror_mode": {
    "name": "ipython",
    "version": 3
   },
   "file_extension": ".py",
   "mimetype": "text/x-python",
   "name": "python",
   "nbconvert_exporter": "python",
   "pygments_lexer": "ipython3",
   "version": "3.8.3"
  }
 },
 "nbformat": 4,
 "nbformat_minor": 5
}
