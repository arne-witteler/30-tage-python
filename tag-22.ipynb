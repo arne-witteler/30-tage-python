{
 "cells": [
  {
   "cell_type": "code",
   "execution_count": null,
   "id": "f54591d8",
   "metadata": {},
   "outputs": [],
   "source": [
    "\"\"\" if-Abfragen\n",
    "2.1 Sortiere zwei vorher festgelegte Zahlen nach Größe und gib sie in der richtigen Reihenfolge aus.\n",
    "\n",
    "2.2 Bestimme die Größte aus drei vorher festgelegten Zahlen und gib diese Zahl aus.\n",
    "\n",
    "2.3 Sortiere drei vorher festgelegte Zahlen und gib sie in der richtigen Reihenfolge aus.\n",
    "\n",
    "2.4 Uberprüfe, ob ein vorher festgelegtes Jahr ein Schaltjahr ist. Dabei sind folgende Regeln zu beachten:\n",
    "- nicht durch 4 teilbar | kein Schaltjahr\n",
    "- durch 4 teilbar | Schaltjahr\n",
    "- durch 100 teilbar | kein Schaltjahr\n",
    "- durch 400 teilbar | Schaltjahr\n",
    "\n",
    "2.5 Lass den Benutzer Temperatur (warm, kalt) und Wetter eingeben (regnerisch, verschneit, sonnig) und gib ihm einen Vorschlag zurück, wie er sich dem Wetter entsprechend kleiden soll.\n",
    "\n",
    "Beispiel:\n",
    "Eingabe: warm und sonnig\n",
    "Ausgabe: Ein T-Shirt reicht für heute völlig!\"\"\""
   ]
  }
 ],
 "metadata": {
  "language_info": {
   "name": "python"
  }
 },
 "nbformat": 4,
 "nbformat_minor": 5
}
