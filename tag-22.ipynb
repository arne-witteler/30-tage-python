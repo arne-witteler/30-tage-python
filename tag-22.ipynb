{
 "cells": [
  {
   "cell_type": "code",
   "execution_count": null,
   "id": "f54591d8",
   "metadata": {},
   "outputs": [],
   "source": [
    "\"\"\" if-Abfragen\n",
    "2.1 Sortiere zwei vorher festgelegte Zahlen nach Größe und gib sie in der richtigen Reihenfolge aus.\n",
    "\n",
    "2.2 Bestimme die Größte aus drei vorher festgelegten Zahlen und gib diese Zahl aus.\n",
    "\n",
    "2.3 Sortiere drei vorher festgelegte Zahlen und gib sie in der richtigen Reihenfolge aus.\n",
    "\n",
    "2.4 Uberprüfe, ob ein vorher festgelegtes Jahr ein Schaltjahr ist. Dabei sind folgende Regeln zu beachten:\n",
    "- nicht durch 4 teilbar | kein Schaltjahr\n",
    "- durch 4 teilbar | Schaltjahr\n",
    "- durch 100 teilbar | kein Schaltjahr\n",
    "- durch 400 teilbar | Schaltjahr\n",
    "\n",
    "2.5 Lass den Benutzer Temperatur (warm, kalt) und Wetter eingeben (regnerisch, verschneit, sonnig) und gib ihm einen Vorschlag zurück, wie er sich dem Wetter entsprechend kleiden soll.\n",
    "\n",
    "Beispiel:\n",
    "Eingabe: warm und sonnig\n",
    "Ausgabe: Ein T-Shirt reicht für heute völlig!\"\"\""
   ]
  },
  {
   "cell_type": "code",
   "execution_count": 3,
   "id": "140e8ffb",
   "metadata": {},
   "outputs": [
    {
     "name": "stdout",
     "output_type": "stream",
     "text": [
      "32, 34\n"
     ]
    }
   ],
   "source": [
    "\"\"\"2.1\"\"\"\n",
    "\n",
    "zahl_1 = 34\n",
    "zahl_2 = 32\n",
    "\n",
    "if zahl_1 < zahl_2:\n",
    "    print(f\"{zahl_1}, {zahl_2}\")\n",
    "else:\n",
    "    print(f\"{zahl_2}, {zahl_1}\")"
   ]
  },
  {
   "cell_type": "code",
   "execution_count": 6,
   "id": "3eff65a2",
   "metadata": {},
   "outputs": [
    {
     "name": "stdout",
     "output_type": "stream",
     "text": [
      "45\n"
     ]
    }
   ],
   "source": [
    "\"\"\"2.2\"\"\"\n",
    "\n",
    "zahl_1 = 43\n",
    "zahl_2 = 45\n",
    "zahl_3 = 32\n",
    "\n",
    "if zahl_1 > zahl_2 and zahl_1 > zahl_3:\n",
    "    print(zahl_1)\n",
    "elif zahl_2 > zahl_1 and zahl_2 > zahl_3:\n",
    "    print(zahl_2)\n",
    "else:\n",
    "    print(zahl_3)"
   ]
  },
  {
   "cell_type": "code",
   "execution_count": 8,
   "id": "d8bb8ef6",
   "metadata": {},
   "outputs": [
    {
     "name": "stdout",
     "output_type": "stream",
     "text": [
      "[11, 23, 54]\n"
     ]
    }
   ],
   "source": [
    "\"\"\"2.3\"\"\"\n",
    "\n",
    "zahlen = [23, 11, 54]\n",
    "\n",
    "zahlen.sort()\n",
    "print(zahlen)"
   ]
  },
  {
   "cell_type": "code",
   "execution_count": 14,
   "id": "12392dde",
   "metadata": {},
   "outputs": [
    {
     "name": "stdout",
     "output_type": "stream",
     "text": [
      "Das Jahr 2025 ist KEIN Schaltjahr.\n"
     ]
    }
   ],
   "source": [
    "\"\"\"2.4\"\"\"\n",
    "\n",
    "jahr = 2025\n",
    "\n",
    "if jahr % 4 == 0 or jahr % 400 == 0:\n",
    "    print(f\"Das Jahr {jahr} ist ein Schaltjahr.\")\n",
    "else:\n",
    "    print(f\"Das Jahr {jahr} ist KEIN Schaltjahr.\")"
   ]
  }
 ],
 "metadata": {
  "kernelspec": {
   "display_name": "Python 3",
   "language": "python",
   "name": "python3"
  },
  "language_info": {
   "codemirror_mode": {
    "name": "ipython",
    "version": 3
   },
   "file_extension": ".py",
   "mimetype": "text/x-python",
   "name": "python",
   "nbconvert_exporter": "python",
   "pygments_lexer": "ipython3",
   "version": "3.8.3"
  }
 },
 "nbformat": 4,
 "nbformat_minor": 5
}
