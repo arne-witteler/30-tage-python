{
 "cells": [
  {
   "cell_type": "code",
   "execution_count": null,
   "id": "ad9cd960",
   "metadata": {},
   "outputs": [],
   "source": [
    "\"\"\"\n",
    "4.1 Füge zwei vorher festgelegte Listen zu einer zusammen und gib diese zurück.\n",
    "\t•\tBeispiel: [3,8,9,2] zusammengefügt mit [4,6] ergibt [3,8,9,2,4,6].\n",
    "\n",
    "⸻\n",
    "\n",
    "4.2 Entferne ein bestimmtes Element aus einer festgelegten Liste.\n",
    "\t•\tHinweis: Kommt ein Element mehr als einmal vor, sollte es überall entfernt werden.\n",
    "\t•\tBeispiel: [3,8,9,5,1,3,6,4] ohne 3 ergibt [8,9,5,1,6,4].\n",
    "\n",
    "⸻\n",
    "\n",
    "4.3 Trenne eine Liste an einem Index in zwei Teillisten.\n",
    "\t•\tHinweis: Der Index beginnt bei 0. Getrennt wird vor dem Eintrag an der Indexstelle. Soll eine Liste an Index 0 getrennt werden, dann ist die erste Liste leer.\n",
    "\t•\tBeispiel: [1,3,5,8,9,3] getrennt an Index 3 ergibt [1,3,5] und [8,9,3].\n",
    "\n",
    "⸻\n",
    "\n",
    "4.4 Drehe eine festgelegte Liste um.\n",
    "\t•\tHinweis: Verwende nicht list.reverse().\n",
    "\t•\tBeispiel: [1,3,5,8,9,3] ergibt [3,9,8,5,3,1].\n",
    "\n",
    "⸻\n",
    "\n",
    "4.5 Lass den Benutzer einen Satz und ein Wort eingeben. Finde heraus, ob das Wort im Satz vorkommt und gib das Ergebnis zurück.\n",
    "\t•\tHinweis: Ein Text kann als Liste aus Buchstaben betrachtet werden. list[4:7] gibt die Listenelemente von 4 bis 6 zurück.\n",
    "\t•\tBeispiel: Eingabe: \"Hallo du da am PC!\" und \"PC\" → Ausgabe: True.\n",
    "\n",
    "⸻\n",
    "\n",
    "4.6 Oma Liesel braucht immer sehr lange an der Kasse, um die richtigen Münzen in ihrer Geldbörse zu finden.\n",
    "\t•\tAufgabe: Hilf ihr und anderen Supermarktkunden, indem du:\n",
    "\t•\ta) Ein Ablaufplan eines Programms zeichnest (mit Papier + Stift), welches Oma Liesel die Münzen nennt, die zusammen ihren Betrag (in Cent!) bilden.\n",
    "\t•\tb) Ein Programm zu diesem Diagramm schreibst.\n",
    "\t•\tHinweis: Verwende keine Kommazahlen.\n",
    "\t•\tBeispiel:\n",
    "\t•\tFür 1553 Cent:\n",
    "[’2 Euro’, ’2 Euro’, ’2 Euro’, ’2 Euro’, ’2 Euro’, ’2 Euro’, ’2 Euro’, ’1 Euro’, ’50 Cent’, ’2 Cent’, ’1 Cent’]\n",
    "\t•\tFür Fortgeschrittene:\n",
    "\t•\tOma Liesel bezahlt auch mit Geldscheinen.\n",
    "\t•\tGib die Münzen nicht einzeln zurück, sondern ihre jeweilige Anzahl.\"\"\""
   ]
  },
  {
   "cell_type": "code",
   "execution_count": 2,
   "id": "1730b078",
   "metadata": {},
   "outputs": [
    {
     "name": "stdout",
     "output_type": "stream",
     "text": [
      "[3, 8, 9, 2, 4, 6]\n"
     ]
    }
   ],
   "source": [
    "\"4.1\"\n",
    "\n",
    "liste_1 = [3, 8, 9, 2]\n",
    "liste_2 = [4, 6]\n",
    "\n",
    "liste_3 = liste_1 + liste_2\n",
    "\n",
    "print(liste_3)"
   ]
  },
  {
   "cell_type": "code",
   "execution_count": null,
   "id": "3b8cd60b",
   "metadata": {},
   "outputs": [
    {
     "name": "stdout",
     "output_type": "stream",
     "text": [
      "[3, 8, 9, 5, 1, 6, 4]\n"
     ]
    }
   ],
   "source": [
    "\"4.2\"\n",
    "\n",
    "zahlen = [3, 8, 9, 5, 1, 3, 6, 4]\n",
    "zu_entfernen = 3\n",
    "neue_zahlen = []\n",
    "\n",
    "for zahl in zahlen:\n",
    "    if zahl != zu_entfernen:\n",
    "        neue_zahlen.append(zahl)\n",
    "\n",
    "print(neue_zahlen)"
   ]
  }
 ],
 "metadata": {
  "kernelspec": {
   "display_name": "Python 3",
   "language": "python",
   "name": "python3"
  },
  "language_info": {
   "codemirror_mode": {
    "name": "ipython",
    "version": 3
   },
   "file_extension": ".py",
   "mimetype": "text/x-python",
   "name": "python",
   "nbconvert_exporter": "python",
   "pygments_lexer": "ipython3",
   "version": "3.8.3"
  }
 },
 "nbformat": 4,
 "nbformat_minor": 5
}
