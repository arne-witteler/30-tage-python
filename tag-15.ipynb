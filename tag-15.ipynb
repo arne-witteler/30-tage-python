{
 "cells": [
  {
   "cell_type": "code",
   "execution_count": null,
   "metadata": {},
   "outputs": [],
   "source": [
    "\"\"\"Wiederholung Schleifen\n",
    "Schreibe ein Programm, in dem der Nutzer eine zufällige Zahl zwischen 1 und 10 erraten muss!\n",
    "\n",
    "✅ Die Zahl wird mit random.randint(1,10) generiert\n",
    "✅ Falls der Nutzer falsch rät, soll die Schleife weiterlaufen\n",
    "✅ Falls er richtig rät, soll \"Richtig!\" ausgegeben und die Schleife beendet werden\n",
    "\n",
    "📌 Bonus: Zähle die Anzahl der Versuche!\"\"\""
   ]
  },
  {
   "cell_type": "code",
   "execution_count": null,
   "metadata": {},
   "outputs": [
    {
     "name": "stdout",
     "output_type": "stream",
     "text": [
      "Rate nochmal!\n",
      "Rate nochmal!\n",
      "Rate nochmal!\n",
      "Rate nochmal!\n",
      "Rate nochmal!\n",
      "Rate nochmal!\n",
      "Rate nochmal!\n",
      "Richtig, du hast 7 gebraucht.\n"
     ]
    }
   ],
   "source": [
    "import random\n",
    "\n",
    "zufallszahl = random.randint(1,10)\n",
    "versuche = 0\n",
    "\n",
    "while True:\n",
    "    ratezahl = int(input(\"Welche Zahl ist gesucht?\"))\n",
    "    versuche = versuche + 1\n",
    "    if zufallszahl != ratezahl:\n",
    "        print(\"Rate nochmal!\")\n",
    "        continue\n",
    "    else:\n",
    "        print(f\"Richtig, du hast {versuche} Versuche gebraucht.\")\n",
    "        break"
   ]
  }
 ],
 "metadata": {
  "kernelspec": {
   "display_name": "Python 3",
   "language": "python",
   "name": "python3"
  },
  "language_info": {
   "codemirror_mode": {
    "name": "ipython",
    "version": 3
   },
   "file_extension": ".py",
   "mimetype": "text/x-python",
   "name": "python",
   "nbconvert_exporter": "python",
   "pygments_lexer": "ipython3",
   "version": "3.8.3"
  }
 },
 "nbformat": 4,
 "nbformat_minor": 2
}
