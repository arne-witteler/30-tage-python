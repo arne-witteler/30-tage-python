{
 "cells": [
  {
   "cell_type": "code",
   "execution_count": null,
   "metadata": {},
   "outputs": [
    {
     "name": "stdout",
     "output_type": "stream",
     "text": [
      "Pakete erfolgreich importiert!\n",
      "Website erfolgreich geladen!\n",
      "44 eindeutige Links gesammelt!\n",
      "['https://civilisten.de/civicrm/hilfe-organisieren', 'https://civilisten.de/civicrm/newsletter-events-kampagnen-managen', 'https://civilisten.de/civicrm/newsletter-events-kampagnen-managen#CiviEvent', 'https://civilisten.de/civicrm/was-ist-civicrm', 'https://civilisten.de/civicrm/kontaktdatenbank', 'https://civilisten.de/civicrm/supertemplates', 'https://civilisten.de/civicrm/kontaktdatenbank#Kontaktdatenbank', 'https://civilisten.de/civicrm/hosting', 'https://civilisten.de/civicrm/spenden-einnehmen-mitglieder-verwalten']\n"
     ]
    }
   ],
   "source": [
    "import json\n",
    "import requests\n",
    "from bs4 import BeautifulSoup\n",
    "from urllib.parse import urljoin\n",
    "\n",
    "print(\"Pakete erfolgreich importiert!\")\n",
    "\n",
    "base_url = \"https://civilisten.de\"\n",
    "response = requests.get(base_url)\n",
    "\n",
    "if response.status_code == 200:\n",
    "    print(\"Website erfolgreich geladen!\")\n",
    "else:\n",
    "    print(f\"Fehler beim Laden der Website: {response.status_code}\")\n",
    "\n",
    "soup = BeautifulSoup(response.text, \"html.parser\")\n",
    "\n",
    "links = soup.find_all(\"a\")\n",
    "\n",
    "link_liste = []\n",
    "\n",
    "for link in links:\n",
    "    href = link.get(\"href\")\n",
    "    if href and not href.startswith(\"javascript\"):\n",
    "        full_url = urljoin(base_url, href)\n",
    "        link_liste.append(full_url)\n",
    "link_liste = list(set(link_liste))\n",
    "print(f\"{len(link_liste)} eindeutige Links gesammelt!\")\n",
    "\n",
    "with open(\"links.json\", \"w\") as file:\n",
    "        json.dump(link_liste, file, indent=4)\n",
    "\n",
    "with open(\"links.json\", \"r\") as file:\n",
    "    gespeicherte_links = json.load(file)\n",
    "\n",
    "filtered_links = [link for link in link_liste if \"civicrm\" in link]\n",
    "print(filtered_links)"
   ]
  }
 ],
 "metadata": {
  "kernelspec": {
   "display_name": "Python 3",
   "language": "python",
   "name": "python3"
  },
  "language_info": {
   "codemirror_mode": {
    "name": "ipython",
    "version": 3
   },
   "file_extension": ".py",
   "mimetype": "text/x-python",
   "name": "python",
   "nbconvert_exporter": "python",
   "pygments_lexer": "ipython3",
   "version": "3.8.3"
  }
 },
 "nbformat": 4,
 "nbformat_minor": 2
}
