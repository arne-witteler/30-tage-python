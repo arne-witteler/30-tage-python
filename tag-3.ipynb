{
 "cells": [
  {
   "cell_type": "code",
   "execution_count": null,
   "metadata": {},
   "outputs": [
    {
     "name": "stdout",
     "output_type": "stream",
     "text": [
      "Zu niedrig!\n",
      "Zu niedrig!\n",
      "Zu niedrig!\n",
      "Zu niedrig!\n",
      "Zu niedrig!\n"
     ]
    }
   ],
   "source": [
    "import random\n",
    "\n",
    "hardness = int(input(\"Wähle den Schwierigkeitsgrad: [1] LEICHT, [2] MITTEL, [3] SCHWER\"))\n",
    "versuche = 0\n",
    "\n",
    "if hardness == 1:\n",
    "    random_number = random.randint(1, 10)\n",
    "    max_versuche = 5\n",
    "    \n",
    "    while versuche < max_versuche:\n",
    "        guessed_number = int(input(\"Welche Zahl wird gesucht? \"))\n",
    "        if guessed_number == random_number:\n",
    "            print(\"Zahl erraten!\")\n",
    "            break\n",
    "        else:\n",
    "            versuche = versuche + 1\n",
    "            if guessed_number < random_number:\n",
    "                print(\"Zu niedrig!\")\n",
    "            else:\n",
    "                print(\"Zu hoch!\")\n",
    "    else:\n",
    "        print(f\"Leider verloren! Die richtige Zahl war {random_number}\")"
   ]
  }
 ],
 "metadata": {
  "kernelspec": {
   "display_name": "Python 3",
   "language": "python",
   "name": "python3"
  },
  "language_info": {
   "codemirror_mode": {
    "name": "ipython",
    "version": 3
   },
   "file_extension": ".py",
   "mimetype": "text/x-python",
   "name": "python",
   "nbconvert_exporter": "python",
   "pygments_lexer": "ipython3",
   "version": "3.9.6"
  }
 },
 "nbformat": 4,
 "nbformat_minor": 2
}
