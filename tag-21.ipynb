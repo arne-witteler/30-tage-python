{
 "cells": [
  {
   "cell_type": "code",
   "execution_count": null,
   "metadata": {},
   "outputs": [],
   "source": [
    "\"\"\"Wiederholung\n",
    "\n",
    "1.1 Gib den Text “Hallo Welt” aus.\n",
    "1.2 Hänge zwei Strings aneinander.\n",
    "1.3 Gib einen Text viermal aus.\n",
    "Hinweis: Mit etwas herumprobieren geht das sehr schnell, ohne den Text\n",
    "4-mal zu kopieren!\n",
    "1.4 Multipliziere zwei Zahlen.\n",
    "1.5 Dividiere zwei Zahlen. Was passiert, wenn du durch Null teilst?\n",
    "1.5 Zeihe die Quadratwurzel aus einer Zahl.\n",
    "Hinweis: Potzengesetze\"\"\"\n"
   ]
  },
  {
   "cell_type": "code",
   "execution_count": 1,
   "metadata": {},
   "outputs": [
    {
     "name": "stdout",
     "output_type": "stream",
     "text": [
      "Hallo Welt\n"
     ]
    }
   ],
   "source": [
    "\"\"\"1.1\"\"\"\n",
    "\n",
    "print(\"Hallo Welt\")"
   ]
  },
  {
   "cell_type": "code",
   "execution_count": 2,
   "metadata": {},
   "outputs": [
    {
     "name": "stdout",
     "output_type": "stream",
     "text": [
      "Nasenbär\n"
     ]
    }
   ],
   "source": [
    "\"\"\"1.2\"\"\"\n",
    "\n",
    "wort_a = \"Nasen\"\n",
    "wort_b = \"bär\"\n",
    "\n",
    "print(wort_a + wort_b)"
   ]
  },
  {
   "cell_type": "code",
   "execution_count": 4,
   "metadata": {},
   "outputs": [
    {
     "name": "stdout",
     "output_type": "stream",
     "text": [
      "Hallo, wie geht's?\n",
      "Hallo, wie geht's?\n",
      "Hallo, wie geht's?\n",
      "Hallo, wie geht's?\n"
     ]
    }
   ],
   "source": [
    "\"\"\"1.3\"\"\"\n",
    "\n",
    "beispieltext = \"Hallo, wie geht's?\"\n",
    "\n",
    "for i in range(0,4):\n",
    "    print(beispieltext)"
   ]
  }
 ],
 "metadata": {
  "kernelspec": {
   "display_name": "Python 3",
   "language": "python",
   "name": "python3"
  },
  "language_info": {
   "codemirror_mode": {
    "name": "ipython",
    "version": 3
   },
   "file_extension": ".py",
   "mimetype": "text/x-python",
   "name": "python",
   "nbconvert_exporter": "python",
   "pygments_lexer": "ipython3",
   "version": "3.8.3"
  }
 },
 "nbformat": 4,
 "nbformat_minor": 2
}
