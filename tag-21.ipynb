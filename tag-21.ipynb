{
 "cells": [
  {
   "cell_type": "code",
   "execution_count": null,
   "metadata": {},
   "outputs": [],
   "source": [
    "\"\"\"Wiederholung\n",
    "\n",
    "1.1 Gib den Text “Hallo Welt” aus.\n",
    "1.2 Hänge zwei Strings aneinander.\n",
    "1.3 Gib einen Text viermal aus.\n",
    "Hinweis: Mit etwas herumprobieren geht das sehr schnell, ohne den Text\n",
    "4-mal zu kopieren!\n",
    "1.4 Multipliziere zwei Zahlen.\n",
    "1.5 Dividiere zwei Zahlen. Was passiert, wenn du durch Null teilst?\n",
    "1.5 Zeihe die Quadratwurzel aus einer Zahl.\n",
    "Hinweis: Potzengesetze\"\"\"\n"
   ]
  }
 ],
 "metadata": {
  "language_info": {
   "name": "python"
  }
 },
 "nbformat": 4,
 "nbformat_minor": 2
}
