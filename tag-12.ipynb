{
 "cells": [
  {
   "cell_type": "code",
   "execution_count": 3,
   "metadata": {},
   "outputs": [
    {
     "name": "stdout",
     "output_type": "stream",
     "text": [
      "Warning: Looks like you're using an outdated `kagglehub` version, please consider updating (latest version: 0.3.10)\n",
      "Path to dataset files: /Users/arnewitteler/.cache/kagglehub/datasets/atharvasoundankar/chocolate-sales/versions/3\n",
      "     Sales Person    Country              Product       Date    Amount  \\\n",
      "0  Jehu Rudeforth         UK      Mint Chip Choco  04-Jan-22   $5,320    \n",
      "1     Van Tuxwell      India        85% Dark Bars  01-Aug-22   $7,896    \n",
      "2    Gigi Bohling      India  Peanut Butter Cubes  07-Jul-22   $4,501    \n",
      "3    Jan Morforth  Australia  Peanut Butter Cubes  27-Apr-22  $12,726    \n",
      "4  Jehu Rudeforth         UK  Peanut Butter Cubes  24-Feb-22  $13,685    \n",
      "\n",
      "   Boxes Shipped  \n",
      "0            180  \n",
      "1             94  \n",
      "2             91  \n",
      "3            342  \n",
      "4            184  \n"
     ]
    }
   ],
   "source": [
    "import kagglehub\n",
    "import pandas as pd\n",
    "\n",
    "# Download latest version\n",
    "path = kagglehub.dataset_download(\"atharvasoundankar/chocolate-sales\")\n",
    "df =pd.read_csv(\"/Users/arnewitteler/.cache/kagglehub/datasets/atharvasoundankar/chocolate-sales/versions/3/Chocolate Sales.csv\")\n",
    "\n",
    "print(\"Path to dataset files:\", path)\n",
    "print(df.head())"
   ]
  }
 ],
 "metadata": {
  "kernelspec": {
   "display_name": "Python 3",
   "language": "python",
   "name": "python3"
  },
  "language_info": {
   "codemirror_mode": {
    "name": "ipython",
    "version": 3
   },
   "file_extension": ".py",
   "mimetype": "text/x-python",
   "name": "python",
   "nbconvert_exporter": "python",
   "pygments_lexer": "ipython3",
   "version": "3.8.3"
  }
 },
 "nbformat": 4,
 "nbformat_minor": 2
}
