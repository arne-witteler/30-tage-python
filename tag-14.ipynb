{
 "cells": [
  {
   "cell_type": "code",
   "execution_count": null,
   "metadata": {},
   "outputs": [
    {
     "name": "stdout",
     "output_type": "stream",
     "text": [
      "Sorry, heute nicht! Da musst du noch 1 Jahre warten\n"
     ]
    }
   ],
   "source": [
    "\"\"\" Wiederholung if-else\n",
    "Schreibe ein Programm, das prüft, ob jemand in einen Club darf:\n",
    "\n",
    "✅ Regeln:\n",
    "\t•\tUnter 18: Kein Einlass 🚫\n",
    "\t•\t18-21: Nur mit VIP-Pass ✅\n",
    "\t•\tAb 21: Freier Eintritt 🎉\n",
    "\n",
    "📌 Bonus: Falls der Nutzer unter 18 ist, gib aus, wie viele Jahre er noch warten muss. \"\"\"\n",
    "\n",
    "alter = int(input(\"Du willst hier rein? Wie alt bist du denn?\"))\n",
    "\n",
    "if alter < 18:\n",
    "    print(f\"Sorry, heute nicht! Da musst du noch {18 - alter} Jahr(e) warten\")\n",
    "elif 18 < alter <= 21:\n",
    "    print(\"Heute nur mit VIP-Bändchen!\")\n",
    "else:\n",
    "    print(\"Freier Eintritt für dich!\")"
   ]
  }
 ],
 "metadata": {
  "kernelspec": {
   "display_name": "Python 3",
   "language": "python",
   "name": "python3"
  },
  "language_info": {
   "codemirror_mode": {
    "name": "ipython",
    "version": 3
   },
   "file_extension": ".py",
   "mimetype": "text/x-python",
   "name": "python",
   "nbconvert_exporter": "python",
   "pygments_lexer": "ipython3",
   "version": "3.8.3"
  }
 },
 "nbformat": 4,
 "nbformat_minor": 2
}
