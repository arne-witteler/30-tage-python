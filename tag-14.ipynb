{
 "cells": [
  {
   "cell_type": "code",
   "execution_count": null,
   "metadata": {},
   "outputs": [],
   "source": [
    "\"\"\" Wiederhulung if-else\n",
    "Schreibe ein Programm, das prüft, ob jemand in einen Club darf:\n",
    "\n",
    "✅ Regeln:\n",
    "\t•\tUnter 18: Kein Einlass 🚫\n",
    "\t•\t18-21: Nur mit VIP-Pass ✅\n",
    "\t•\tAb 21: Freier Eintritt 🎉\n",
    "\n",
    "📌 Bonus: Falls der Nutzer unter 18 ist, gib aus, wie viele Jahre er noch warten muss. \"\"\""
   ]
  }
 ],
 "metadata": {
  "language_info": {
   "name": "python"
  }
 },
 "nbformat": 4,
 "nbformat_minor": 2
}
