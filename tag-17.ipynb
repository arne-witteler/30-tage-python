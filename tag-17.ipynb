{
 "cells": [
  {
   "cell_type": "code",
   "execution_count": null,
   "metadata": {},
   "outputs": [],
   "source": [
    "\"\"\"🎯 Aufgabe: Zahlratespiel mit maximal 5 Versuchen\n",
    "\n",
    "🧠 Ziel:\n",
    "\n",
    "Erstelle ein kleines Spiel, bei dem der Spieler eine Zahl zwischen 1 und 10 erraten muss – aber er hat nur 5 Versuche!\"\"\"\n",
    "\n"
   ]
  }
 ],
 "metadata": {
  "language_info": {
   "name": "python"
  }
 },
 "nbformat": 4,
 "nbformat_minor": 2
}
