{
 "cells": [
  {
   "cell_type": "code",
   "execution_count": 7,
   "metadata": {},
   "outputs": [
    {
     "name": "stdout",
     "output_type": "stream",
     "text": [
      "Inkorrekt. Versuch's nochmal. 4 Versuche übrig.\n",
      "Inkorrekt. Versuch's nochmal. 3 Versuche übrig.\n",
      "Inkorrekt. Versuch's nochmal. 2 Versuche übrig.\n",
      "Inkorrekt. Versuch's nochmal. 1 Versuche übrig.\n",
      "Leider verloren. Die richtige Zahl war 2.\n"
     ]
    }
   ],
   "source": [
    "\"\"\"🎯 Aufgabe: Zahlratespiel mit maximal 5 Versuchen\n",
    "\n",
    "🧠 Ziel:\n",
    "\n",
    "Erstelle ein kleines Spiel, bei dem der Spieler eine Zahl zwischen 1 und 10 erraten muss – aber er hat nur 5 Versuche!\"\"\"\n",
    "\n",
    "\n",
    "import random\n",
    "\n",
    "zufallszahl = random.randint(1, 10)\n",
    "\n",
    "for versuch in range(1, 6):\n",
    "    ratezahl = int(input(\"Welche Zahl zwischen 1 und 10 ist gesucht?\"))\n",
    "    if ratezahl == zufallszahl:\n",
    "        print(f\"Korrekt, {ratezahl} ist die gesuchte Zahl!\")\n",
    "        break\n",
    "    else:\n",
    "        if versuch < 5:\n",
    "            print(f\"Inkorrekt. Versuch's nochmal. {5-versuch} Versuche übrig.\")\n",
    "        else:\n",
    "            print(f\"Leider verloren. Die richtige Zahl war {zufallszahl}.\")"
   ]
  },
  {
   "cell_type": "code",
   "execution_count": 11,
   "metadata": {},
   "outputs": [
    {
     "name": "stdout",
     "output_type": "stream",
     "text": [
      "['Kirschen', 'Apfel', 'Birne', 'Bananen']\n",
      "['Kirschen', 'Apfel', 'Birne', 'Bananen']\n"
     ]
    }
   ],
   "source": [
    "\"\"\"Aufgabe:\n",
    "\n",
    "Schreib ein Programm, das den Nutzer eine Einkaufsliste erstellen lässt.\n",
    "\n",
    "✅ Funktionen:\n",
    "\t•\tArtikel hinzufügen\n",
    "\t•\tArtikel entfernen\n",
    "\t•\tListe anzeigen\n",
    "\n",
    "📌 Bonus:\n",
    "\t•\tGib die Liste nummeriert aus\n",
    "\t•\tLass den Nutzer Artikel per Zahl löschen\n",
    "\t•\tSpeichere die Liste in einer Datei (z. B. JSON)\"\"\"\n",
    "\n",
    "import json\n",
    "\n",
    "# Versuche, die Einkaufsliste aus der Datei zu laden\n",
    "try:\n",
    "    with open(\"einkaufsliste.json\", \"r\") as file:\n",
    "        einkausliste = json.load(file)\n",
    "except (FileNotFoundError, json.JSONDecodeError):\n",
    "    einkaufsliste = []\n",
    "\n",
    "while True:\n",
    "    auswahl = int(input(\"Was möchtest du tun? (1) Artikel hinzufügen (2) Einkaufsliste anzeigen (3) Artikel entfernen (4) Beenden\"))\n",
    "    \n",
    "    if auswahl == 1:\n",
    "        addArtikel = input(\"Welchen Artikel möchtest du hinzufügen?\")\n",
    "        einkaufsliste.append(addArtikel)\n",
    "    elif auswahl == 2:\n",
    "        print(einkaufsliste)\n",
    "    elif auswahl == 3:\n",
    "        print(einkaufsliste)\n",
    "        deleteArtikel = int(input(\"Welchen Artikel möchtest du entfernen?\"))\n",
    "        einkaufsliste.pop(deleteArtikel)\n",
    "    elif auswahl == 4: #Beim Beenden wird Einkaufsliste gespeichert\n",
    "        with open(\"einkaufsliste.json\", \"w\") as file:\n",
    "            json.dump(einkaufsliste, file)\n",
    "        break\n"
   ]
  }
 ],
 "metadata": {
  "kernelspec": {
   "display_name": "Python 3",
   "language": "python",
   "name": "python3"
  },
  "language_info": {
   "codemirror_mode": {
    "name": "ipython",
    "version": 3
   },
   "file_extension": ".py",
   "mimetype": "text/x-python",
   "name": "python",
   "nbconvert_exporter": "python",
   "pygments_lexer": "ipython3",
   "version": "3.8.3"
  }
 },
 "nbformat": 4,
 "nbformat_minor": 2
}
