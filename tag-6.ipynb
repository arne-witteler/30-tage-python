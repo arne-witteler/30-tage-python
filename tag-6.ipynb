{
 "cells": [
  {
   "cell_type": "code",
   "execution_count": null,
   "metadata": {},
   "outputs": [
    {
     "name": "stdout",
     "output_type": "stream",
     "text": [
      "1. Python lernen ✅\n",
      "2. Mathe lernen 🟡\n",
      "3. Deutsch lernen 🟡\n",
      "4. Spanisch lernen 🟡\n"
     ]
    }
   ],
   "source": [
    "import json\n",
    "\n",
    "# Versuche, die To-Do-Liste aus der Datei zu laden\n",
    "try:\n",
    "    with open(\"todolist.json\", \"r\") as file:\n",
    "        todo_liste = json.load(file)\n",
    "except (FileNotFoundError, json.JSONDecodeError):\n",
    "    todo_liste = []  # Start mit leerer Liste, falls Fehler auftritt\n",
    "\n",
    "# Hauptmenü in der while-Schleife\n",
    "while True:\n",
    "    auswahl = int(input(\"Was möchtest du tun? (1) Aufgabe hinzufügen (2) Liste anzeigen (3) Aufgabe entfernen (4) Status bearbeiten (5) Beenden\"))\n",
    "    if auswahl == 1:\n",
    "        aufgabe = str(input(\"Welche Aufgabe möchtest du hinzufügen?\"))\n",
    "        todo_liste.append({\"todo\": aufgabe, \"status\": \"🟡\"})\n",
    "    elif auswahl == 2:\n",
    "        for index, aufgabe in enumerate(todo_liste, start=1):\n",
    "            print(f\"{index}. {aufgabe['todo']} {aufgabe['status']}\")\n",
    "    elif auswahl == 3:\n",
    "        for index, aufgabe in enumerate(todo_liste, start=1):\n",
    "            print(f\"{index}. {aufgabe['todo']} {aufgabe['status']}\")\n",
    "        kill_task = int(input(\"Welchen Eintrag möchtest du löschen?\"))-1\n",
    "        if 0 <= kill_task < len(todo_liste):\n",
    "            todo_liste.pop(kill_task)\n",
    "        else:\n",
    "            print(\"Kein Eintrag an dieser Stelle vorhanden.\")\n",
    "    elif auswahl == 4:\n",
    "        for index, aufgabe in enumerate(todo_liste, start=1):\n",
    "            print(f\"{index}. {aufgabe['todo']} {aufgabe['status']}\")\n",
    "        status = int(input(\"Welches Todo hast du erledigt?\"))-1\n",
    "        if 0<= status < len(todo_liste):\n",
    "            todo_liste[status][\"status\"] = \"✅\"\n",
    "    elif auswahl == 5: #Beim Beenden wird Liste gespeichert\n",
    "        with open(\"todolist.json\", \"w\") as file:\n",
    "            json.dump(todo_liste, file)\n",
    "        break"
   ]
  }
 ],
 "metadata": {
  "kernelspec": {
   "display_name": "Python 3",
   "language": "python",
   "name": "python3"
  },
  "language_info": {
   "codemirror_mode": {
    "name": "ipython",
    "version": 3
   },
   "file_extension": ".py",
   "mimetype": "text/x-python",
   "name": "python",
   "nbconvert_exporter": "python",
   "pygments_lexer": "ipython3",
   "version": "3.9.6"
  }
 },
 "nbformat": 4,
 "nbformat_minor": 2
}
