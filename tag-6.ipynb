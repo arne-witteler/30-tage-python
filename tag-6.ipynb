{
 "cells": [
  {
   "cell_type": "code",
   "execution_count": 1,
   "metadata": {},
   "outputs": [
    {
     "name": "stdout",
     "output_type": "stream",
     "text": [
      "[]\n"
     ]
    }
   ],
   "source": [
    "todo_liste = []\n",
    "\n",
    "while True:\n",
    "    auswahl = int(input(\"Was möchtest du tun? (1) Aufgabe hinzufügen (2) Liste anzeigen (3) Aufgabe entfernen (4) Beenden\"))\n",
    "    if auswahl == 1:\n",
    "        aufgabe = str(input(\"Welche Aufgabe möchtest du hinzufügen?\"))\n",
    "        todo_liste.append(aufgabe)\n",
    "    elif auswahl == 2:\n",
    "        print(todo_liste)\n",
    "    elif auswahl == 3: #not working\n",
    "        print(todo_liste)\n",
    "        kill_task = int(input(\"Welchen Eintrag möchtest du löschen?\"))\n",
    "        if 0 <= kill_task < len(todo_liste):\n",
    "            todo_liste.pop(kill_task)\n",
    "        else:\n",
    "            print(\"Kein Eintrag an dieser Stelle vorhanden.\")\n",
    "    elif auswahl == 4:\n",
    "        break\n"
   ]
  }
 ],
 "metadata": {
  "kernelspec": {
   "display_name": "Python 3",
   "language": "python",
   "name": "python3"
  },
  "language_info": {
   "codemirror_mode": {
    "name": "ipython",
    "version": 3
   },
   "file_extension": ".py",
   "mimetype": "text/x-python",
   "name": "python",
   "nbconvert_exporter": "python",
   "pygments_lexer": "ipython3",
   "version": "3.9.6"
  }
 },
 "nbformat": 4,
 "nbformat_minor": 2
}
