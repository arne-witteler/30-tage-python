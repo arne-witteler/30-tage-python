{
 "cells": [
  {
   "cell_type": "code",
   "execution_count": null,
   "metadata": {},
   "outputs": [
    {
     "ename": "TypeError",
     "evalue": "string indices must be integers",
     "output_type": "error",
     "traceback": [
      "\u001b[0;31m---------------------------------------------------------------------------\u001b[0m",
      "\u001b[0;31mTypeError\u001b[0m                                 Traceback (most recent call last)",
      "Cell \u001b[0;32mIn[4], line 18\u001b[0m\n\u001b[1;32m     16\u001b[0m \u001b[38;5;28;01melif\u001b[39;00m auswahl \u001b[38;5;241m==\u001b[39m \u001b[38;5;241m2\u001b[39m:\n\u001b[1;32m     17\u001b[0m     \u001b[38;5;28;01mfor\u001b[39;00m index, aufgabe \u001b[38;5;129;01min\u001b[39;00m \u001b[38;5;28menumerate\u001b[39m(todo_liste, start\u001b[38;5;241m=\u001b[39m\u001b[38;5;241m1\u001b[39m):\n\u001b[0;32m---> 18\u001b[0m         status \u001b[38;5;241m=\u001b[39m \u001b[38;5;124m\"\u001b[39m\u001b[38;5;124m✅\u001b[39m\u001b[38;5;124m\"\u001b[39m \u001b[38;5;28;01mif\u001b[39;00m \u001b[43maufgabe\u001b[49m\u001b[43m[\u001b[49m\u001b[38;5;124;43m\"\u001b[39;49m\u001b[38;5;124;43merledigt\u001b[39;49m\u001b[38;5;124;43m\"\u001b[39;49m\u001b[43m]\u001b[49m \u001b[38;5;28;01melse\u001b[39;00m \u001b[38;5;124m\"\u001b[39m\u001b[38;5;124m🟡\u001b[39m\u001b[38;5;124m\"\u001b[39m\n\u001b[1;32m     19\u001b[0m         \u001b[38;5;28mprint\u001b[39m(\u001b[38;5;124mf\u001b[39m\u001b[38;5;124m\"\u001b[39m\u001b[38;5;132;01m{\u001b[39;00mindex\u001b[38;5;132;01m}\u001b[39;00m\u001b[38;5;124m. \u001b[39m\u001b[38;5;132;01m{\u001b[39;00mstatus\u001b[38;5;132;01m}\u001b[39;00m\u001b[38;5;124m \u001b[39m\u001b[38;5;132;01m{\u001b[39;00maufgabe[\u001b[38;5;124m'\u001b[39m\u001b[38;5;124mtext\u001b[39m\u001b[38;5;124m'\u001b[39m]\u001b[38;5;132;01m}\u001b[39;00m\u001b[38;5;124m\"\u001b[39m)\n\u001b[1;32m     20\u001b[0m \u001b[38;5;28;01melif\u001b[39;00m auswahl \u001b[38;5;241m==\u001b[39m \u001b[38;5;241m3\u001b[39m:\n",
      "\u001b[0;31mTypeError\u001b[0m: string indices must be integers"
     ]
    }
   ],
   "source": [
    "import json\n",
    "\n",
    "# Versuche, die To-Do-Liste aus der Datei zu laden\n",
    "try:\n",
    "    with open(\"todolist.json\", \"r\") as file:\n",
    "        todo_liste = json.load(file)\n",
    "except (FileNotFoundError, json.JSONDecodeError):\n",
    "    todo_liste = []  # Start mit leerer Liste, falls Fehler auftritt\n",
    "\n",
    "# Hauptmenü in der while-Schleife\n",
    "while True:\n",
    "    auswahl = int(input(\"Was möchtest du tun? (1) Aufgabe hinzufügen (2) Liste anzeigen (3) Aufgabe entfernen (4) Beenden\"))\n",
    "    if auswahl == 1:\n",
    "        aufgabe = str(input(\"Welche Aufgabe möchtest du hinzufügen?\"))\n",
    "        todo_liste.append(aufgabe)\n",
    "    elif auswahl == 2:\n",
    "        for index, aufgabe in enumerate(todo_liste, start=1):\n",
    "            print(f\"{index}. {aufgabe}\")\n",
    "    elif auswahl == 3:\n",
    "        print(todo_liste)\n",
    "        kill_task = int(input(\"Welchen Eintrag möchtest du löschen?\"))\n",
    "        if 0 <= kill_task < len(todo_liste):\n",
    "            todo_liste.pop(kill_task)\n",
    "        else:\n",
    "            print(\"Kein Eintrag an dieser Stelle vorhanden.\")\n",
    "    elif auswahl == 4: #Beim Beenden wird Liste gespeichert\n",
    "        with open(\"todolist.json\", \"w\") as file:\n",
    "            json.dump(todo_liste, file)\n",
    "        break\n"
   ]
  }
 ],
 "metadata": {
  "kernelspec": {
   "display_name": "Python 3",
   "language": "python",
   "name": "python3"
  },
  "language_info": {
   "codemirror_mode": {
    "name": "ipython",
    "version": 3
   },
   "file_extension": ".py",
   "mimetype": "text/x-python",
   "name": "python",
   "nbconvert_exporter": "python",
   "pygments_lexer": "ipython3",
   "version": "3.9.6"
  }
 },
 "nbformat": 4,
 "nbformat_minor": 2
}
