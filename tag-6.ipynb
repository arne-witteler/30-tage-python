{
 "cells": [
  {
   "cell_type": "code",
   "execution_count": null,
   "metadata": {},
   "outputs": [
    {
     "ename": "ValueError",
     "evalue": "invalid literal for int() with base 10: ''",
     "output_type": "error",
     "traceback": [
      "\u001b[0;31m---------------------------------------------------------------------------\u001b[0m",
      "\u001b[0;31mValueError\u001b[0m                                Traceback (most recent call last)",
      "Cell \u001b[0;32mIn[1], line 12\u001b[0m\n\u001b[1;32m     10\u001b[0m \u001b[38;5;66;03m# Hauptmenü in der while-Schleife\u001b[39;00m\n\u001b[1;32m     11\u001b[0m \u001b[38;5;28;01mwhile\u001b[39;00m \u001b[38;5;28;01mTrue\u001b[39;00m:\n\u001b[0;32m---> 12\u001b[0m     auswahl \u001b[38;5;241m=\u001b[39m \u001b[38;5;28;43mint\u001b[39;49m\u001b[43m(\u001b[49m\u001b[38;5;28;43minput\u001b[39;49m\u001b[43m(\u001b[49m\u001b[38;5;124;43m\"\u001b[39;49m\u001b[38;5;124;43mWas möchtest du tun? (1) Aufgabe hinzufügen (2) Liste anzeigen (3) Aufgabe entfernen (4) Status bearbeiten (5) Beenden\u001b[39;49m\u001b[38;5;124;43m\"\u001b[39;49m\u001b[43m)\u001b[49m\u001b[43m)\u001b[49m\n\u001b[1;32m     13\u001b[0m     \u001b[38;5;28;01mif\u001b[39;00m auswahl \u001b[38;5;241m==\u001b[39m \u001b[38;5;241m1\u001b[39m:\n\u001b[1;32m     14\u001b[0m         aufgabe \u001b[38;5;241m=\u001b[39m \u001b[38;5;28mstr\u001b[39m(\u001b[38;5;28minput\u001b[39m(\u001b[38;5;124m\"\u001b[39m\u001b[38;5;124mWelche Aufgabe möchtest du hinzufügen?\u001b[39m\u001b[38;5;124m\"\u001b[39m))\n",
      "\u001b[0;31mValueError\u001b[0m: invalid literal for int() with base 10: ''"
     ]
    }
   ],
   "source": [
    "import json\n",
    "\n",
    "# Versuche, die To-Do-Liste aus der Datei zu laden\n",
    "try:\n",
    "    with open(\"data/todolist.json\", \"r\") as file:\n",
    "        todo_liste = json.load(file)\n",
    "except (FileNotFoundError, json.JSONDecodeError):\n",
    "    todo_liste = []  # Start mit leerer Liste, falls Fehler auftritt\n",
    "\n",
    "# Hauptmenü in der while-Schleife\n",
    "while True:\n",
    "    auswahl = int(input(\"Was möchtest du tun? (1) Aufgabe hinzufügen (2) Liste anzeigen (3) Aufgabe entfernen (4) Status bearbeiten (5) Beenden\"))\n",
    "    if auswahl == 1:\n",
    "        aufgabe = str(input(\"Welche Aufgabe möchtest du hinzufügen?\"))\n",
    "        todo_liste.append({\"todo\": aufgabe, \"status\": \"🟡\"})\n",
    "    elif auswahl == 2:\n",
    "        for index, aufgabe in enumerate(todo_liste, start=1):\n",
    "            print(f\"{index}. {aufgabe['todo']} {aufgabe['status']}\")\n",
    "    elif auswahl == 3:\n",
    "        for index, aufgabe in enumerate(todo_liste, start=1):\n",
    "            print(f\"{index}. {aufgabe['todo']} {aufgabe['status']}\")\n",
    "        kill_task = int(input(\"Welchen Eintrag möchtest du löschen?\"))-1\n",
    "        if 0 <= kill_task < len(todo_liste):\n",
    "            todo_liste.pop(kill_task)\n",
    "        else:\n",
    "            print(\"Kein Eintrag an dieser Stelle vorhanden.\")\n",
    "    elif auswahl == 4:\n",
    "        for index, aufgabe in enumerate(todo_liste, start=1):\n",
    "            print(f\"{index}. {aufgabe['todo']} {aufgabe['status']}\")\n",
    "        status = int(input(\"Welches Todo hast du erledigt?\"))-1\n",
    "        if 0<= status < len(todo_liste):\n",
    "            todo_liste[status][\"status\"] = \"✅\"\n",
    "    elif auswahl == 5: #Beim Beenden wird Liste gespeichert\n",
    "        with open(\"data/todolist.json\", \"w\") as file:\n",
    "            json.dump(todo_liste, file)\n",
    "        break"
   ]
  }
 ],
 "metadata": {
  "kernelspec": {
   "display_name": "Python 3",
   "language": "python",
   "name": "python3"
  },
  "language_info": {
   "codemirror_mode": {
    "name": "ipython",
    "version": 3
   },
   "file_extension": ".py",
   "mimetype": "text/x-python",
   "name": "python",
   "nbconvert_exporter": "python",
   "pygments_lexer": "ipython3",
   "version": "3.8.3"
  }
 },
 "nbformat": 4,
 "nbformat_minor": 2
}
