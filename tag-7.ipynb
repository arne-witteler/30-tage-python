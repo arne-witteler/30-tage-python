{
 "cells": [
  {
   "cell_type": "code",
   "execution_count": null,
   "metadata": {},
   "outputs": [
    {
     "name": "stdout",
     "output_type": "stream",
     "text": [
      "Falsches Passwort\n",
      "Zugang gewährt!\n",
      "1. abc123def789 google.com\n",
      "2. 098ter543wqa linkedin.de\n"
     ]
    }
   ],
   "source": [
    "import json\n",
    "import secrets\n",
    "import hashlib\n",
    "\n",
    "# Versuche, die Passwörter aus der Datei zu laden\n",
    "try:\n",
    "    with open(\"data/passwoerter.json\", \"r\") as file:\n",
    "        passwoerter = json.load(file)\n",
    "except (FileNotFoundError, json.JSONDecodeError):\n",
    "    passwoerter = {\"masterkey\": \"\", \"passwörter\": []}  # Start mit leerer Liste, falls Fehler auftritt\n",
    "\n",
    "if not passwoerter[\"masterkey\"]:\n",
    "    neues_masterpasswort = input(\"Erstelle ein Masterpasswort: \")\n",
    "    passwoerter[\"masterkey\"] = hashlib.sha256(neues_masterpasswort.encode()).hexdigest()\n",
    "\n",
    "while True:\n",
    "    auswahl = int(input(\"(1) Passwort hinzufügen (2) Alle Passwörter anzeigen (3) Passwort generieren  (4) Passwort löschen (5) Beenden\"))\n",
    "    if auswahl == 1:\n",
    "        passwort = str(input(\"Passwort eingeben\"))\n",
    "        website = str(input(\"Website eingeben\"))\n",
    "        passwoerter[\"passwörter\"].append({\"passwort\": passwort, \"website\": website})\n",
    "    elif auswahl == 2:\n",
    "        master_passwort = str(input(\"Masterpasswort eingeben um Passwoerter anzuzeigen\"))\n",
    "        if hashlib.sha256(master_passwort.encode()).hexdigest() == passwoerter[\"masterkey\"]:\n",
    "            print(\"Zugang gewährt!\")\n",
    "            for index, passwort in enumerate(passwoerter[\"passwörter\"], start=1):\n",
    "                print(f\"{index}. {passwort['passwort']} {passwort['website']}\")\n",
    "        else:\n",
    "            print(\"Falsches Passwort\")\n",
    "            continue\n",
    "    elif auswahl == 3:\n",
    "        generated_passwort = secrets.token_urlsafe(12)\n",
    "        website = str(input(\"Passwort erfolgreich generiert. Zu welcher Website gehört das Passwort?\"))\n",
    "        passwoerter[\"passwörter\"].append({\"passwort\": generated_passwort, \"website\": website})\n",
    "    elif auswahl == 4:\n",
    "        for index, passwort in enumerate(passwoerter[\"passwörter\"], start=1):\n",
    "            print(f\"{index}. {passwort['passwort']} {passwort['website']}\")\n",
    "        kill_passwort = int(input(\"Welches Passwort möchtest du löschen? (Nummer wählen)\"))-1\n",
    "        if 0 <= kill_passwort < len(passwoerter[\"passwörter\"]):\n",
    "            passwoerter[\"passwörter\"].pop(kill_passwort)\n",
    "        else:\n",
    "            print(\"Kein Passwort an dieser Stelle vorhanden.\")\n",
    "    elif auswahl == 5:\n",
    "        with open(\"data/passwoerter.json\", \"w\") as file:\n",
    "            json.dump(passwoerter, file, indent=4)\n",
    "        break"
   ]
  }
 ],
 "metadata": {
  "kernelspec": {
   "display_name": "Python 3",
   "language": "python",
   "name": "python3"
  },
  "language_info": {
   "codemirror_mode": {
    "name": "ipython",
    "version": 3
   },
   "file_extension": ".py",
   "mimetype": "text/x-python",
   "name": "python",
   "nbconvert_exporter": "python",
   "pygments_lexer": "ipython3",
   "version": "3.9.6"
  }
 },
 "nbformat": 4,
 "nbformat_minor": 2
}
